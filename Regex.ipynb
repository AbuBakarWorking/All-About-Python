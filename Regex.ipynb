{
 "cells": [
  {
   "cell_type": "markdown",
   "id": "2ced268c",
   "metadata": {},
   "source": [
    "# 🔹 What is Regex in Python?\n",
    "## Regex (short for Regular Expression) is a tool used to search, match, or extract patterns in text like emails, phone numbers, or words.\n"
   ]
  },
  {
   "cell_type": "markdown",
   "id": "a41852a1",
   "metadata": {},
   "source": [
    "## ✅ Real-Life Example\n",
    "### Suppose you want to:\n",
    "\n",
    "- Check if a phone number is valid ✅\n",
    "\n",
    "- Extract email addresses from a paragraph 📧\n",
    "\n",
    "- Find all dates in a document 📅\n",
    "\n",
    "- Instead of checking each character manually, you can use regex to do it quickly and accurately."
   ]
  },
  {
   "cell_type": "markdown",
   "id": "41591d82",
   "metadata": {},
   "source": [
    "## 🔍 Common Regex Patterns\n",
    "\n",
    "| Pattern | Meaning                            | Example Match                        |\n",
    "| ------- | ---------------------------------- | ------------------------------------ |\n",
    "| `\\d`    | Digit (0–9)                        | `5`, `9`, etc.                       |\n",
    "| `\\w`    | Word character (a-z, A-Z, 0-9, \\_) | `a`, `9`, `_`                        |\n",
    "| `\\s`    | Whitespace (space, tab)            | Space                                |\n",
    "| `.`     | Any character (except newline)     | `a`, `1`, `%`                        |\n",
    "| `+`     | One or more times                  | `\\d+` = one or more digits           |\n",
    "| `*`     | Zero or more times                 | `\\w*` = word characters (maybe none) |\n",
    "| `^`     | Starts with                        | `^Hello` matches \"Hello World\"       |\n",
    "| `$`     | Ends with                          | `end$` matches \"the end\"             |\n",
    "| `[]`    | Set of characters                  | `[abc]` matches `a`, `b`, or `c`     |\n"
   ]
  },
  {
   "cell_type": "markdown",
   "id": "79d22eb6",
   "metadata": {},
   "source": [
    "## Now, here are the most commonly used functions in the re module:\n",
    "\n",
    "| Function         | Description                                                            |\n",
    "| ---------------- | ---------------------------------------------------------------------- |\n",
    "| `re.search()`    | ✅ Searches for the **first match** of a pattern anywhere in the string |\n",
    "| `re.match()`     | ✅ Checks if the pattern **matches at the beginning** of the string     |\n",
    "| `re.fullmatch()` | ✅ Checks if **the entire string** matches the pattern                  |\n",
    "| `re.findall()`   | ✅ Returns a list of **all non-overlapping matches**                    |\n",
    "| `re.finditer()`  | ✅ Returns an iterator yielding **match objects** for all matches       |\n",
    "| `re.sub()`       | ✅ Replaces all matches with a new string (**substitute**)              |\n",
    "| `re.split()`     | ✅ Splits the string at each match of the pattern                       |\n",
    "| `re.compile()`   | ✅ Compiles a regex pattern into a reusable regex object                |\n"
   ]
  },
  {
   "cell_type": "markdown",
   "id": "ecbe5691",
   "metadata": {},
   "source": [
    "### 🔗 How They’re Connected (Both Tables)\n",
    "\n",
    "- 🔹 1. Patterns = What to look for\n",
    "\n",
    "These are like rules or formulas (e.g., \\d+ = one or more digits).\n",
    "\n",
    "- 🔹 2. Functions = Where and how to look\n",
    "\n",
    "These are the tools that use those patterns to search, match, find, replace, etc."
   ]
  },
  {
   "cell_type": "markdown",
   "id": "f70d898d",
   "metadata": {},
   "source": [
    "## 🔧 In Python: We use the re module"
   ]
  },
  {
   "cell_type": "code",
   "execution_count": 2,
   "id": "78b332a4",
   "metadata": {},
   "outputs": [],
   "source": [
    "import re"
   ]
  },
  {
   "cell_type": "markdown",
   "id": "8e28579c",
   "metadata": {},
   "source": [
    "## ✅ 1. \\d — Digit (0–9)\n",
    "### Used with: findall(), search(), match()"
   ]
  },
  {
   "cell_type": "code",
   "execution_count": 3,
   "id": "3774a7d6",
   "metadata": {},
   "outputs": [
    {
     "name": "stdout",
     "output_type": "stream",
     "text": [
      "['7', '5', '8', '2', '9', '9']\n",
      "['75', '82', '99']\n"
     ]
    }
   ],
   "source": [
    "import re\n",
    "\n",
    "text = \"Marks: 75, 82, 99\"\n",
    "print(re.findall(r\"\\d\", text))    # for single digits\n",
    "print(re.findall(r\"\\d+\", text))   # for one or more digits\n"
   ]
  },
  {
   "cell_type": "markdown",
   "id": "e1916c12",
   "metadata": {},
   "source": [
    "## ✅ 2. \\w — Word character (letters, digits, underscore)\n",
    "### Used with: findall(), split()"
   ]
  },
  {
   "cell_type": "code",
   "execution_count": 12,
   "id": "278b9449",
   "metadata": {},
   "outputs": [
    {
     "name": "stdout",
     "output_type": "stream",
     "text": [
      "['A', 'l', 'i', '_', '9', '9', 'a', 'n', 'd', 'S', 'a', 'r', 'a', '1', '2', '3']\n",
      "\n",
      "['Ali_99', 'and', 'Sara', '123']\n"
     ]
    }
   ],
   "source": [
    "text = \"Ali_99 and Sara@123\"\n",
    "\n",
    "print(re.findall(r\"\\w\", text))    # for single word characters (letters, digits, underscore)\n",
    "\n",
    "print()\n",
    "\n",
    "print(re.findall(r\"\\w+\", text))  # for word characters (letters, digits, underscore)\n"
   ]
  },
  {
   "cell_type": "markdown",
   "id": "94e459b0",
   "metadata": {},
   "source": [
    "## ✅ 3. \\s — Whitespace\n",
    "### Used with: split() to split by spaces"
   ]
  },
  {
   "cell_type": "code",
   "execution_count": 5,
   "id": "aead78f3",
   "metadata": {},
   "outputs": [
    {
     "name": "stdout",
     "output_type": "stream",
     "text": [
      "['Hello', 'world!', 'This', 'is', 'Python']\n"
     ]
    }
   ],
   "source": [
    "text = \"Hello    world! This is Python\"\n",
    "print(re.split(r\"\\s+\", text))   # split by whitespace (spaces, tabs, etc.)\n"
   ]
  },
  {
   "cell_type": "markdown",
   "id": "bee4db8b",
   "metadata": {},
   "source": [
    "## ✅ 4. . — Any character (except newline)\n",
    "### Used with: search()"
   ]
  },
  {
   "cell_type": "code",
   "execution_count": 6,
   "id": "6f497500",
   "metadata": {},
   "outputs": [
    {
     "name": "stdout",
     "output_type": "stream",
     "text": [
      "<re.Match object; span=(0, 1), match='A'>\n",
      "<re.Match object; span=(0, 3), match='A$B'>\n",
      "\n",
      "['A', '$', 'B']\n",
      "['A$B']\n"
     ]
    }
   ],
   "source": [
    "text = \"A$B\"\n",
    "print(re.search(r\".\", text))  # finds the first character\n",
    "print(re.search(r\".+\", text))  # finds one or more characters\n",
    "\n",
    "print()\n",
    "\n",
    "print(re.findall(r\".\", text))   # finds all characters\n",
    "print(re.findall(r\".+\", text))  # finds all characters as a single match"
   ]
  },
  {
   "cell_type": "markdown",
   "id": "8674d1d4",
   "metadata": {},
   "source": [
    "## ✅ 5. + — One or more times\n",
    "### Used with: findall(), sub()\n",
    "\n"
   ]
  },
  {
   "cell_type": "code",
   "execution_count": 7,
   "id": "4c503e19",
   "metadata": {},
   "outputs": [
    {
     "name": "stdout",
     "output_type": "stream",
     "text": [
      "l\n"
     ]
    }
   ],
   "source": [
    "text = \"helloooo\"\n",
    "print(re.search(r\"lo*\", text).group())  # finds \"lo\" followed by zero or more 'o's"
   ]
  },
  {
   "cell_type": "markdown",
   "id": "bd268bab",
   "metadata": {},
   "source": [
    "## ✅ 7. ^ — Starts with\n",
    "### Used with: match() or search()"
   ]
  },
  {
   "cell_type": "code",
   "execution_count": 8,
   "id": "3b488bc0",
   "metadata": {},
   "outputs": [
    {
     "name": "stdout",
     "output_type": "stream",
     "text": [
      "<re.Match object; span=(0, 6), match='Python'>\n",
      "None\n"
     ]
    }
   ],
   "source": [
    "text = \"Python is easy\"\n",
    "print(re.match(r\"^Python\", text))  # matches \"Python\" at the start\n",
    "print(re.match(r\"^easy\", text))    # does not match \"easy\" at the start\n"
   ]
  },
  {
   "cell_type": "markdown",
   "id": "35c4aa09",
   "metadata": {},
   "source": [
    "## ✅ 8. $ — Ends with\n",
    "### Used with: search()"
   ]
  },
  {
   "cell_type": "code",
   "execution_count": 9,
   "id": "1ad439da",
   "metadata": {},
   "outputs": [
    {
     "name": "stdout",
     "output_type": "stream",
     "text": [
      "<re.Match object; span=(12, 15), match='end'>\n",
      "None\n"
     ]
    }
   ],
   "source": [
    "text = \"This is the end\"\n",
    "print(re.search(r\"end$\", text))  \n",
    "\n",
    "print(re.search(r\"start$\", text))  # does not match \"start\" at the end"
   ]
  },
  {
   "cell_type": "markdown",
   "id": "d5455246",
   "metadata": {},
   "source": [
    "## ✅ 9. [] — Set of characters\n",
    "### Used with: findall()"
   ]
  },
  {
   "cell_type": "code",
   "execution_count": 10,
   "id": "9f288a24",
   "metadata": {},
   "outputs": [
    {
     "name": "stdout",
     "output_type": "stream",
     "text": [
      "['a', 'b', 'c', 'x', 'y', 'z']\n",
      "['abc', 'xyz']\n",
      "['a', 'b', 'c', 'x', 'y', 'z']\n",
      "['1', '2', '3']\n",
      "['123']\n"
     ]
    }
   ],
   "source": [
    "text = \"abc123xyz\"\n",
    "\n",
    "print(re.findall(r\"[a-z]\", text))  # finds all lowercase letters\n",
    "print(re.findall(r\"[a-z]+\", text))  # finds one or more lowercase letters\n",
    "\n",
    "print(re.findall(r\"[a-zA-Z]\", text)) # finds all letters (both lowercase and uppercase)\n",
    "\n",
    "print(re.findall(r\"[0-9]\", text))  # finds all digits\n",
    "print(re.findall(r\"[0-9]+\", text))  # finds one or more digits"
   ]
  },
  {
   "cell_type": "markdown",
   "id": "1cd5bbfd",
   "metadata": {},
   "source": [
    "## 1. re.search() – Search for a pattern anywhere in the string"
   ]
  },
  {
   "cell_type": "code",
   "execution_count": 13,
   "id": "2d538c11",
   "metadata": {},
   "outputs": [
    {
     "name": "stdout",
     "output_type": "stream",
     "text": [
      "'AI' found in the text.\n"
     ]
    }
   ],
   "source": [
    "import re\n",
    "\n",
    "text = \"I am fond of leaning AI and Cloud Computing\"\n",
    "result = \"AI\"\n",
    "\n",
    "re.search(text, result)  \n",
    "\n",
    "if re.search(result, text):\n",
    "    print(f\"'{result}' found in the text.\")\n",
    "else:\n",
    "    print(f\"'{result}' not found in the text.\")    "
   ]
  },
  {
   "cell_type": "markdown",
   "id": "9c8101b5",
   "metadata": {},
   "source": [
    "## 2. re.fullmatch() – Check if the entire string matches the pattern"
   ]
  },
  {
   "cell_type": "code",
   "execution_count": null,
   "id": "f3d4d674",
   "metadata": {},
   "outputs": [
    {
     "name": "stdout",
     "output_type": "stream",
     "text": [
      "Valid email address\n"
     ]
    }
   ],
   "source": [
    "import re\n",
    "email = \"Alikhan123._@gmail.com\"\n",
    "\n",
    "\n",
    "pattern = r\"[a-zA-Z0-9._%+-]+@[a-zA-Z0-9.-]+\\.[a-zA-Z]{2,}\" # Starts with letters, numbers, or allowed symbols (._%+-)\n",
    "                                                            # Must contain a single @ symbol\n",
    "                                                            # Followed by a valid domain (letters, numbers, dots or hyphens)\n",
    "                                                            # Ends with a dot and domain extension of at least 2 letters (e.g., .com, .org)\n",
    "if re.fullmatch(pattern, email):\n",
    "    print(\"Valid email address\")\n",
    "else:\n",
    "    print(\"Invalid email address\")"
   ]
  },
  {
   "cell_type": "markdown",
   "id": "3a0cc587",
   "metadata": {},
   "source": [
    "## 3. re.finditer() – Returns an iterator of match objects for all matches"
   ]
  },
  {
   "cell_type": "code",
   "execution_count": 20,
   "id": "54670b98",
   "metadata": {},
   "outputs": [
    {
     "name": "stdout",
     "output_type": "stream",
     "text": [
      "Found: 01 at position: (14, 16)\n",
      "Found: 19 at position: (18, 20)\n",
      "Found: 32 at position: (22, 24)\n"
     ]
    }
   ],
   "source": [
    "import re\n",
    "\n",
    "text = \"Roll numbers: 01, 19, 32\"\n",
    "matches = re.finditer(r\"\\d+\", text)\n",
    "\n",
    "for match in matches:\n",
    "    print(f\"Found:\", match.group(), \"at position:\", match.span())  "
   ]
  },
  {
   "cell_type": "markdown",
   "id": "15a5b904",
   "metadata": {},
   "source": [
    "## 4. re.sub() – Substitute (replace) matching text"
   ]
  },
  {
   "cell_type": "code",
   "execution_count": null,
   "id": "60e635ea",
   "metadata": {},
   "outputs": [
    {
     "name": "stdout",
     "output_type": "stream",
     "text": [
      "My number is ***-***-****\n"
     ]
    }
   ],
   "source": [
    "import re\n",
    "\n",
    "text = \"My number is 123-456-7890\" \n",
    "new_text = re.sub(r\"\\d\", \"*\", text) # replaces all digits with '*'\n",
    "\n",
    "print(new_text)"
   ]
  },
  {
   "cell_type": "markdown",
   "id": "a30b85fa",
   "metadata": {},
   "source": [
    "## 5. re.split() – Split a string based on the pattern"
   ]
  },
  {
   "cell_type": "code",
   "execution_count": null,
   "id": "650d60e2",
   "metadata": {},
   "outputs": [
    {
     "name": "stdout",
     "output_type": "stream",
     "text": [
      "['C++', 'Python', 'SQL', 'Server']\n"
     ]
    }
   ],
   "source": [
    "import re\n",
    "\n",
    "text = \"C++ Python SQL-Server\"\n",
    "languages = re.split(r\"\\s|[-]\", text)  # split by whitespace or hyphen\n",
    "\n",
    "print(languages)  "
   ]
  },
  {
   "cell_type": "markdown",
   "id": "dfe18dd4",
   "metadata": {},
   "source": [
    "## 6. re.compile() – Compile a pattern for reusability"
   ]
  },
  {
   "cell_type": "code",
   "execution_count": 27,
   "id": "06c6c494",
   "metadata": {},
   "outputs": [
    {
     "name": "stdout",
     "output_type": "stream",
     "text": [
      "Matches in text1: ['25']\n",
      "Matches in text2: ['30']\n"
     ]
    }
   ],
   "source": [
    "import re\n",
    "\n",
    "text1 = \"Age: 25\"\n",
    "text2 = \"Age: 30\"\n",
    "\n",
    "pattern = re.compile(r\"\\d[0-9]\")  # matches two digits\n",
    "\n",
    "matches1 = pattern.findall(text1)\n",
    "matches2 = pattern.findall(text2)\n",
    "\n",
    "\n",
    "print(f\"Matches in text1: {matches1}\")\n",
    "print(f\"Matches in text2: {matches2}\")"
   ]
  },
  {
   "cell_type": "markdown",
   "id": "4f6960d6",
   "metadata": {},
   "source": [
    "## 7. re.match() – Check if the pattern matches at the start of the string"
   ]
  },
  {
   "cell_type": "code",
   "execution_count": 29,
   "id": "380c52cd",
   "metadata": {},
   "outputs": [
    {
     "name": "stdout",
     "output_type": "stream",
     "text": [
      "Match found: Saylani\n"
     ]
    }
   ],
   "source": [
    "import re \n",
    "\n",
    "text = \"Saylani Welfare Trust\"\n",
    "match = re.match(r\"Saylani\", text)  # matches \"Saylani\" at the start\n",
    "\n",
    "if match:\n",
    "    print(\"Match found:\", match.group())\n",
    "else:\n",
    "    print(\"No match found at the start of the string.\")"
   ]
  },
  {
   "cell_type": "markdown",
   "id": "6f36e58e",
   "metadata": {},
   "source": [
    "## 8. re.findall() – Return all non-overlapping matches in a list"
   ]
  },
  {
   "cell_type": "code",
   "execution_count": 33,
   "id": "2e1d8b87",
   "metadata": {},
   "outputs": [
    {
     "name": "stdout",
     "output_type": "stream",
     "text": [
      "Matches found: ['0300-1234567', '0312-7654321']\n"
     ]
    }
   ],
   "source": [
    "import re\n",
    "\n",
    "text = \"Contact numbers 0300-1234567, 0312-7654321\"\n",
    "matches = re.findall(r\"\\d{4}-\\d{7}\", text)  \n",
    "\n",
    "print(\"Matches found:\", matches)  "
   ]
  }
 ],
 "metadata": {
  "kernelspec": {
   "display_name": "Python 3",
   "language": "python",
   "name": "python3"
  },
  "language_info": {
   "codemirror_mode": {
    "name": "ipython",
    "version": 3
   },
   "file_extension": ".py",
   "mimetype": "text/x-python",
   "name": "python",
   "nbconvert_exporter": "python",
   "pygments_lexer": "ipython3",
   "version": "3.12.5"
  }
 },
 "nbformat": 4,
 "nbformat_minor": 5
}
