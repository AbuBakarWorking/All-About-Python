{
 "cells": [
  {
   "cell_type": "markdown",
   "id": "c6b219a6",
   "metadata": {},
   "source": [
    "# ✅ Phase 1: Python Basics (Foundations)\n",
    "## We’ll cover the following topics in this phase:\n",
    "\n",
    "### What is Python & Why Learn It?\n",
    "-  1 Installing Python + Setting up VS Code / Terminal\n",
    "\n",
    "- 2 Hello World + Basic Syntax\n",
    "\n",
    "- 3 Comments\n",
    "\n",
    "- 4 Variables & Data Types\n",
    "\n",
    "- 5 Type Casting\n",
    "\n",
    "- 6 User Input\n",
    "\n",
    "- 7 Operators\n",
    "\n",
    "- 8 Conditional Statements\n",
    "\n",
    "- 9 Loops\n",
    "\n",
    "- 10 Exception Handling\n",
    "\n",
    "- 11 Built-in Functions"
   ]
  },
  {
   "cell_type": "markdown",
   "id": "64b6e46e",
   "metadata": {},
   "source": [
    "## 📘 Lesson 1: What is Python?"
   ]
  },
  {
   "cell_type": "markdown",
   "id": "f8d29a67",
   "metadata": {},
   "source": [
    "### Python is a high-level, interpreted programming language. It is easy to read, simple to write, and powerful for many applications like:\n",
    "\n",
    "### Web Development (e.g., Django, Flask)\n",
    "\n",
    "### Data Science (e.g., Pandas, NumPy)\n",
    "\n",
    "### Machine Learning (e.g., Scikit-learn, TensorFlow)\n",
    "\n",
    "### Automation, Scripting, IoT, Game Development, etc."
   ]
  },
  {
   "cell_type": "markdown",
   "id": "ec9c1e3e",
   "metadata": {},
   "source": [
    "## 🧠 Why Python?\n",
    "\n",
    "### Easy syntax like English\n",
    "\n",
    "### Huge community support\n",
    "\n",
    "### Tons of libraries\n",
    "\n",
    "### In-demand for jobs"
   ]
  },
  {
   "cell_type": "markdown",
   "id": "7bdea499",
   "metadata": {},
   "source": [
    "## 🛠️ Lesson 2: Installing Python\n"
   ]
  },
  {
   "cell_type": "markdown",
   "id": "866c2eb9",
   "metadata": {},
   "source": [
    "### ✅ Step-by-step:\n",
    "### Go to: https://python.org/downloads\n",
    "\n",
    "### Download and install Python (Windows: check \"Add Python to PATH\")"
   ]
  },
  {
   "cell_type": "markdown",
   "id": "72ed0445",
   "metadata": {},
   "source": [
    "### Verify in terminal:"
   ]
  },
  {
   "cell_type": "code",
   "execution_count": 1,
   "id": "5b88eea9",
   "metadata": {},
   "outputs": [
    {
     "ename": "NameError",
     "evalue": "name 'python' is not defined",
     "output_type": "error",
     "traceback": [
      "\u001b[1;31m---------------------------------------------------------------------------\u001b[0m",
      "\u001b[1;31mNameError\u001b[0m                                 Traceback (most recent call last)",
      "Cell \u001b[1;32mIn[1], line 1\u001b[0m\n\u001b[1;32m----> 1\u001b[0m \u001b[43mpython\u001b[49m \u001b[38;5;241m-\u001b[39m\u001b[38;5;241m-\u001b[39mversion\n",
      "\u001b[1;31mNameError\u001b[0m: name 'python' is not defined"
     ]
    }
   ],
   "source": [
    "python --version"
   ]
  },
  {
   "cell_type": "code",
   "execution_count": null,
   "id": "0efa732f",
   "metadata": {},
   "outputs": [],
   "source": []
  },
  {
   "cell_type": "code",
   "execution_count": null,
   "id": "7927799a",
   "metadata": {},
   "outputs": [
    {
     "name": "stdout",
     "output_type": "stream",
     "text": [
      "Hello, World!\n"
     ]
    }
   ],
   "source": [
    "print(\"Hello, World!\")"
   ]
  },
  {
   "cell_type": "markdown",
   "id": "afa304ed",
   "metadata": {},
   "source": [
    "# Comments"
   ]
  },
  {
   "cell_type": "code",
   "execution_count": null,
   "id": "84d1e1fc",
   "metadata": {},
   "outputs": [
    {
     "data": {
      "text/plain": [
       "'\\nThis is a\\nmulti-line comment\\n'"
      ]
     },
     "execution_count": 1,
     "metadata": {},
     "output_type": "execute_result"
    }
   ],
   "source": [
    "# This is a single-line comment\n",
    "\n",
    "\"\"\"\n",
    "This is a\n",
    "multi-line comment\n",
    "\"\"\"\n"
   ]
  },
  {
   "cell_type": "code",
   "execution_count": null,
   "id": "96812ad2",
   "metadata": {},
   "outputs": [
    {
     "name": "stdout",
     "output_type": "stream",
     "text": [
      "Welcome to my Python journey!\n",
      "I'm excited to learn coding.\n"
     ]
    }
   ],
   "source": [
    "# Welcome message\n",
    "print(\"Welcome to my Python journey!\")\n",
    "print(\"I'm excited to learn coding.\")"
   ]
  },
  {
   "cell_type": "markdown",
   "id": "44f2709e",
   "metadata": {},
   "source": [
    "## Variables & Data Types"
   ]
  },
  {
   "cell_type": "markdown",
   "id": "05a76081",
   "metadata": {},
   "source": [
    "### What is a Variable?\n",
    " - A variable is like a container that stores data (like numbers, text, etc.) that you can use or change later."
   ]
  },
  {
   "cell_type": "code",
   "execution_count": null,
   "id": "52af8573",
   "metadata": {},
   "outputs": [
    {
     "name": "stdout",
     "output_type": "stream",
     "text": [
      "My name is Abubakar, I am 20 years old, and it is True that I am a student.\n"
     ]
    }
   ],
   "source": [
    "name = \"Abubakar\"\n",
    "age = 20\n",
    "is_student = True\n",
    "\n",
    "print(f\"My name is {name}, I am {age} years old, and it is {is_student} that I am a student.\")\n"
   ]
  },
  {
   "cell_type": "markdown",
   "id": "18e337a7",
   "metadata": {},
   "source": [
    "### name:: stores a string\n",
    "\n",
    "### age:: stores a number\n",
    "\n",
    "### is_student:: stores a boolean (True/False)"
   ]
  },
  {
   "cell_type": "markdown",
   "id": "07a81a49",
   "metadata": {},
   "source": [
    "## Python is Dynamically Typed\n",
    "### You don’t need to say what type of data it is. Python figures it out for you."
   ]
  },
  {
   "cell_type": "markdown",
   "id": "cbd7c940",
   "metadata": {},
   "source": [
    "# 🎯 Python Data Types (in depth)"
   ]
  },
  {
   "cell_type": "markdown",
   "id": "7712b8cd",
   "metadata": {},
   "source": [
    "## 🔸 1. Strings (str)\n",
    "### Used to store text."
   ]
  },
  {
   "cell_type": "code",
   "execution_count": null,
   "id": "d7605297",
   "metadata": {},
   "outputs": [
    {
     "name": "stdout",
     "output_type": "stream",
     "text": [
      "Welcome Ali to Karachi\n",
      "<class 'str'>\n"
     ]
    }
   ],
   "source": [
    "first_name = \"Ali\"\n",
    "city = 'Karachi'\n",
    "\n",
    "print(\"Welcome\", first_name, \"to\", city)\n",
    "\n",
    "# To Check the type of a variable\n",
    "print(type(city))  "
   ]
  },
  {
   "cell_type": "markdown",
   "id": "ce106de3",
   "metadata": {},
   "source": [
    "### You can use single or double quotes."
   ]
  },
  {
   "cell_type": "markdown",
   "id": "5b94f0d3",
   "metadata": {},
   "source": [
    "## 🔸 2. Integers (int) & Floats (float)\n",
    "### Used for numbers:"
   ]
  },
  {
   "cell_type": "code",
   "execution_count": null,
   "id": "4268c421",
   "metadata": {},
   "outputs": [
    {
     "name": "stdout",
     "output_type": "stream",
     "text": [
      "<class 'int'>\n",
      "<class 'float'>\n"
     ]
    }
   ],
   "source": [
    "age = 25           # int\n",
    "price = 99.99      # float\n",
    "\n",
    "print(type(age))    \n",
    "print(type(price))"
   ]
  },
  {
   "cell_type": "markdown",
   "id": "d31bee63",
   "metadata": {},
   "source": [
    "## You can do math operations:"
   ]
  },
  {
   "cell_type": "code",
   "execution_count": null,
   "id": "bceb72d4",
   "metadata": {},
   "outputs": [
    {
     "name": "stdout",
     "output_type": "stream",
     "text": [
      "15\n",
      "5\n",
      "50\n",
      "2.0\n"
     ]
    }
   ],
   "source": [
    "a = 10\n",
    "b = 5\n",
    "\n",
    "print(a + b)     # 15\n",
    "print(a - b)     # 5\n",
    "print(a * b)     # 50\n",
    "print(a / b)     # 2.0 (always float)\n"
   ]
  },
  {
   "cell_type": "markdown",
   "id": "773b65bf",
   "metadata": {},
   "source": [
    "## 🔸 3. Boolean (bool)\n",
    "### Either True or False."
   ]
  },
  {
   "cell_type": "code",
   "execution_count": null,
   "id": "91f870e9",
   "metadata": {},
   "outputs": [
    {
     "name": "stdout",
     "output_type": "stream",
     "text": [
      "Welcome back!\n",
      "<class 'bool'>\n"
     ]
    }
   ],
   "source": [
    "is_logged_in = True\n",
    "has_paid = False\n",
    "\n",
    "\n",
    "# They’re often used in conditions:\n",
    "if is_logged_in:\n",
    "    print(\"Welcome back!\")\n",
    "\n",
    "print(type(is_logged_in))  \n"
   ]
  },
  {
   "cell_type": "markdown",
   "id": "d9101f9e",
   "metadata": {},
   "source": [
    "## 🔸 4. None\n",
    "### Represents \"nothing\" or no value."
   ]
  },
  {
   "cell_type": "code",
   "execution_count": null,
   "id": "528a9b44",
   "metadata": {},
   "outputs": [
    {
     "name": "stdout",
     "output_type": "stream",
     "text": [
      "None\n"
     ]
    }
   ],
   "source": [
    "x = None\n",
    "\n",
    "print(x)    # Output: None\n"
   ]
  },
  {
   "cell_type": "markdown",
   "id": "3fb00432",
   "metadata": {},
   "source": [
    "## ✅ Variable Naming Rules\n",
    "### Can contain letters, numbers, underscores (_)\n",
    "\n",
    "### Must start with a letter or underscore\n",
    "\n",
    "### Can't start with a number\n",
    "\n",
    "### Case-sensitive (Name ≠ name)\n",
    "\n",
    "### Don’t use Python keywords like if, for, print as variable names\n",
    "\n"
   ]
  },
  {
   "cell_type": "markdown",
   "id": "9d1324f6",
   "metadata": {},
   "source": [
    "## ✅ Examples:"
   ]
  },
  {
   "cell_type": "code",
   "execution_count": null,
   "id": "6d33ef2f",
   "metadata": {},
   "outputs": [],
   "source": [
    "user_name = \"Ali\"\n",
    "age = 18\n",
    "_country = \"Pakistan\"\n"
   ]
  },
  {
   "cell_type": "markdown",
   "id": "9cbfd849",
   "metadata": {},
   "source": [
    "## ❌ Not allowed:"
   ]
  },
  {
   "cell_type": "code",
   "execution_count": null,
   "id": "42bed76c",
   "metadata": {},
   "outputs": [
    {
     "ename": "SyntaxError",
     "evalue": "invalid decimal literal (2947791363.py, line 1)",
     "output_type": "error",
     "traceback": [
      "\u001b[1;36m  Cell \u001b[1;32mIn[15], line 1\u001b[1;36m\u001b[0m\n\u001b[1;33m    2user = \"Wrong\"     # Starts with number\u001b[0m\n\u001b[1;37m    ^\u001b[0m\n\u001b[1;31mSyntaxError\u001b[0m\u001b[1;31m:\u001b[0m invalid decimal literal\n"
     ]
    }
   ],
   "source": [
    "2user = \"Wrong\"     # Starts with number\n",
    "for = \"Invalid\"     # \"for\" is a keyword\n"
   ]
  },
  {
   "cell_type": "markdown",
   "id": "8c708326",
   "metadata": {},
   "source": [
    "# Type Casting & User Input"
   ]
  },
  {
   "cell_type": "markdown",
   "id": "c72a7147",
   "metadata": {},
   "source": [
    "## 🔹 Type Casting (Type Conversion)\n",
    "### Type casting means converting one data type into another, e.g., converting a string to an integer or a float to a string."
   ]
  },
  {
   "cell_type": "code",
   "execution_count": null,
   "id": "d7c0b238",
   "metadata": {},
   "outputs": [
    {
     "name": "stdout",
     "output_type": "stream",
     "text": [
      "20\n",
      "5\n",
      "100 is a number\n",
      "1\n",
      "0\n"
     ]
    }
   ],
   "source": [
    "# String to Integer\n",
    "age = \"18\"\n",
    "age = int(age)\n",
    "print(age + 2)   # Output: 20\n",
    "\n",
    "# Float to Integer\n",
    "x = 5.9\n",
    "print(int(x))    # Output: 5\n",
    "\n",
    "# Integer to String\n",
    "number = 100\n",
    "print(str(number) + \" is a number\")  # Output: 100 is a number\n",
    "\n",
    "# Boolean to Integer\n",
    "print(int(True))   # 1\n",
    "print(int(False))  # 0\n"
   ]
  },
  {
   "cell_type": "markdown",
   "id": "5d9fc713",
   "metadata": {},
   "source": [
    "## Important Notes:\n",
    "### You can’t convert a string like \"hello\" to an int. It will give an error.\n",
    "\n",
    "### You can only convert valid number strings like \"5\", \"9.8\" to int or float."
   ]
  },
  {
   "cell_type": "code",
   "execution_count": null,
   "id": "5c3ae937",
   "metadata": {},
   "outputs": [
    {
     "ename": "ValueError",
     "evalue": "invalid literal for int() with base 10: 'hello'",
     "output_type": "error",
     "traceback": [
      "\u001b[1;31m---------------------------------------------------------------------------\u001b[0m",
      "\u001b[1;31mValueError\u001b[0m                                Traceback (most recent call last)",
      "Cell \u001b[1;32mIn[17], line 2\u001b[0m\n\u001b[0;32m      1\u001b[0m \u001b[38;5;28mint\u001b[39m(\u001b[38;5;124m\"\u001b[39m\u001b[38;5;124m123\u001b[39m\u001b[38;5;124m\"\u001b[39m)    \u001b[38;5;66;03m# ✅ Works\u001b[39;00m\n\u001b[1;32m----> 2\u001b[0m \u001b[38;5;28;43mint\u001b[39;49m\u001b[43m(\u001b[49m\u001b[38;5;124;43m\"\u001b[39;49m\u001b[38;5;124;43mhello\u001b[39;49m\u001b[38;5;124;43m\"\u001b[39;49m\u001b[43m)\u001b[49m  \u001b[38;5;66;03m# ❌ Error\u001b[39;00m\n",
      "\u001b[1;31mValueError\u001b[0m: invalid literal for int() with base 10: 'hello'"
     ]
    }
   ],
   "source": [
    "int(\"123\")    # ✅ Works\n",
    "int(\"hello\")  # ❌ Error\n"
   ]
  },
  {
   "cell_type": "markdown",
   "id": "174f3742",
   "metadata": {},
   "source": [
    "# User Input\n",
    "## The input() function lets you ask the user to enter data."
   ]
  },
  {
   "cell_type": "code",
   "execution_count": null,
   "id": "fb6d37db",
   "metadata": {},
   "outputs": [
    {
     "name": "stdout",
     "output_type": "stream",
     "text": [
      "Hello 123\n"
     ]
    }
   ],
   "source": [
    "name = input(\"Enter your name: \")\n",
    "print(\"Hello\", name)\n",
    "\n",
    "# This always gives you a string type—even if the user types a number."
   ]
  },
  {
   "cell_type": "markdown",
   "id": "fe400ae7",
   "metadata": {},
   "source": [
    "## Example with Number:"
   ]
  },
  {
   "cell_type": "code",
   "execution_count": null,
   "id": "3440a825",
   "metadata": {},
   "outputs": [
    {
     "ename": "TypeError",
     "evalue": "can only concatenate str (not \"int\") to str",
     "output_type": "error",
     "traceback": [
      "\u001b[1;31m---------------------------------------------------------------------------\u001b[0m",
      "\u001b[1;31mTypeError\u001b[0m                                 Traceback (most recent call last)",
      "Cell \u001b[1;32mIn[20], line 2\u001b[0m\n\u001b[0;32m      1\u001b[0m age \u001b[38;5;241m=\u001b[39m \u001b[38;5;28minput\u001b[39m(\u001b[38;5;124m\"\u001b[39m\u001b[38;5;124mEnter your age: \u001b[39m\u001b[38;5;124m\"\u001b[39m)\n\u001b[1;32m----> 2\u001b[0m \u001b[38;5;28mprint\u001b[39m(\u001b[43mage\u001b[49m\u001b[43m \u001b[49m\u001b[38;5;241;43m+\u001b[39;49m\u001b[43m \u001b[49m\u001b[38;5;241;43m2\u001b[39;49m)\n",
      "\u001b[1;31mTypeError\u001b[0m: can only concatenate str (not \"int\") to str"
     ]
    }
   ],
   "source": [
    "age = input(\"Enter your age: \")\n",
    "print(age + 2)"
   ]
  },
  {
   "cell_type": "markdown",
   "id": "8b0ca363",
   "metadata": {},
   "source": [
    "## Fix with type casting:"
   ]
  },
  {
   "cell_type": "code",
   "execution_count": null,
   "id": "587a73ea",
   "metadata": {},
   "outputs": [
    {
     "name": "stdout",
     "output_type": "stream",
     "text": [
      "36\n"
     ]
    }
   ],
   "source": [
    "age = int(input(\"Enter your age: \"))\n",
    "print(age + 2)    # ✅ Now works fine\n"
   ]
  },
  {
   "cell_type": "markdown",
   "id": "5ca9d4c1",
   "metadata": {},
   "source": [
    "## ✅ Real-Life Mini Example:"
   ]
  },
  {
   "cell_type": "code",
   "execution_count": null,
   "id": "89164eb5",
   "metadata": {},
   "outputs": [
    {
     "name": "stdout",
     "output_type": "stream",
     "text": [
      "Hello Ali\n",
      "Next year you will be 24\n"
     ]
    }
   ],
   "source": [
    "name = input(\"What is your name? \")\n",
    "age = int(input(\"What is your age? \"))\n",
    "\n",
    "print(\"Hello\", name)\n",
    "print(\"Next year you will be\", age + 1)\n"
   ]
  },
  {
   "cell_type": "code",
   "execution_count": null,
   "id": "0ce3aa83",
   "metadata": {},
   "outputs": [
    {
     "name": "stdout",
     "output_type": "stream",
     "text": [
      "Hello ALi, you are 24 years old and your monthly salary is 228000.\n"
     ]
    }
   ],
   "source": [
    "person = input(\"Enter your name: \")\n",
    "age = int(input(\"Enter your age: \"))\n",
    "monthly_Salary = int(input(\"Enter your monthly salary: \"))\n",
    "\n",
    "print(f\"Hello {person}, you are {age} years old and your monthly salary is {monthly_Salary * 12}.\")"
   ]
  },
  {
   "cell_type": "markdown",
   "id": "5fbde394",
   "metadata": {},
   "source": [
    "## Operators in Python (Detailed)"
   ]
  },
  {
   "cell_type": "markdown",
   "id": "cc61ab7d",
   "metadata": {},
   "source": [
    "## Arithmetic Operators\n",
    "\n",
    "| Operator | Meaning             | Example         |\n",
    "| -------- | ------------------- | --------------- |\n",
    "| `+`      | Addition            | `10 + 5 = 15`   |\n",
    "| `-`      | Subtraction         | `10 - 5 = 5`    |\n",
    "| `*`      | Multiplication      | `10 * 2 = 20`   |\n",
    "| `/`      | Division            | `10 / 3 = 3.33` |\n",
    "| `//`     | Floor Division      | `10 // 3 = 3`   |\n",
    "| `%`      | Modulus (remainder) | `10 % 3 = 1`    |\n",
    "| `**`     | Exponentiation      | `2 ** 3 = 8`    |\n"
   ]
  },
  {
   "cell_type": "code",
   "execution_count": null,
   "id": "4ef07123",
   "metadata": {},
   "outputs": [
    {
     "name": "stdout",
     "output_type": "stream",
     "text": [
      "Addition: 13\n",
      "Subtraction: 7\n",
      "Multiplication: 30\n",
      "Division: 3.3333333333333335\n",
      "Floor Division: 3\n",
      "Modulus: 1\n",
      "Exponentiation: 1000\n",
      "\n",
      "Formatted Output: 10 + 3 = 13, 10 - 3 = 7, 10 * 3 = 30, 10 / 3 = 3.3333333333333335\n"
     ]
    }
   ],
   "source": [
    "a = 10\n",
    "b = 3\n",
    "\n",
    "print(f\"Addition: {a + b}\")\n",
    "print(f\"Subtraction: {a - b}\")\n",
    "print(f\"Multiplication: {a * b}\")\n",
    "print(f\"Division: {a / b}\")\n",
    "print(f\"Floor Division: {a // b}\")\n",
    "print(f\"Modulus: {a % b}\")\n",
    "print(f\"Exponentiation: {a ** b}\")\n",
    "\n",
    "# Using f-strings for formatted output\n",
    "\n",
    "print(f\"\\nFormatted Output: {a} + {b} = {a + b}, {a} - {b} = {a - b}, {a} * {b} = {a * b}, {a} / {b} = {a / b}\")\n",
    "# Using f-strings for formatted output with variables"
   ]
  },
  {
   "cell_type": "markdown",
   "id": "9a4b49a3",
   "metadata": {},
   "source": [
    "## 🔸 2. Assignment Operators\n",
    "### Used to assign values to variables.\n",
    "\n",
    "| Operator | Example   | Meaning               |\n",
    "| -------- | --------- | --------------------- |\n",
    "| `=`      | `x = 5`   | Assign 5 to x         |\n",
    "| `+=`     | `x += 2`  | `x = x + 2`           |\n",
    "| `-=`     | `x -= 3`  | `x = x - 3`           |\n",
    "| `*=`     | `x *= 4`  | `x = x * 4`           |\n",
    "| `/=`     | `x /= 2`  | `x = x / 2`           |\n",
    "| `//=`    | `x //= 2` | Floor division assign |\n",
    "| `%=`     | `x %= 3`  | Remainder assign      |\n",
    "| `**=`    | `x **= 2` | Exponent assign       |\n"
   ]
  },
  {
   "cell_type": "code",
   "execution_count": null,
   "id": "3324c029",
   "metadata": {},
   "outputs": [],
   "source": [
    "x = 10\n",
    "x += 5   # x = 15\n",
    "x *= 2   # x = 30\n",
    "\n",
    "y = 20\n",
    "y -= 5   # y = 15\n",
    "\n",
    "y /= 3   # y = 5.0\n",
    "print(f\"x: {x}, y: {y}\")\n"
   ]
  },
  {
   "cell_type": "markdown",
   "id": "e1db2bc8",
   "metadata": {},
   "source": [
    "## 🔸 3. Comparison (Relational) Operators\n",
    "### Used to compare two values. Always return True or False.\n",
    "\n",
    "| Operator | Meaning               | Example          |\n",
    "| -------- | --------------------- | ---------------- |\n",
    "| `==`     | Equal to              | `5 == 5 → True`  |\n",
    "| `!=`     | Not equal to          | `5 != 3 → True`  |\n",
    "| `>`      | Greater than          | `5 > 3 → True`   |\n",
    "| `<`      | Less than             | `5 < 3 → False`  |\n",
    "| `>=`     | Greater than or equal | `5 >= 5 → True`  |\n",
    "| `<=`     | Less than or equal    | `5 <= 4 → False` |\n"
   ]
  },
  {
   "cell_type": "code",
   "execution_count": null,
   "id": "09f53728",
   "metadata": {},
   "outputs": [
    {
     "name": "stdout",
     "output_type": "stream",
     "text": [
      "False\n",
      "True\n",
      "False\n",
      "True\n",
      "False\n",
      "True\n",
      "True\n",
      "\n",
      "a == b: False, a < b: True, a > b: False, a <= b: True, a >= b: False, a != b: True\n"
     ]
    }
   ],
   "source": [
    "a = 10\n",
    "b = 20\n",
    "\n",
    "print(a == b)  \n",
    "print(a < b)\n",
    "print(a > b)\n",
    "print(a <= b)\n",
    "print(a >= b)\n",
    "print(a != b)\n",
    "print(not (a == b))  # True if a is not equal to b\n",
    "\n",
    "\n",
    "# Using f-strings for formatted output with boolean expressions\n",
    "print(f\"\\na == b: {a == b}, a < b: {a < b}, a > b: {a > b}, a <= b: {a <= b}, a >= b: {a >= b}, a != b: {a != b}\")\n"
   ]
  },
  {
   "cell_type": "markdown",
   "id": "4fa5ac15",
   "metadata": {},
   "source": [
    "## 🔸 4. Logical Operators\n",
    "### Used to combine multiple conditions.\n",
    "\n",
    "| Operator | Meaning                      | Example                       |\n",
    "| -------- | ---------------------------- | ----------------------------- |\n",
    "| `and`    | True if both are True        | `x > 5 and x < 10`            |\n",
    "| `or`     | True if at least one is True | `x < 5 or x == 10`            |\n",
    "| `not`    | Reverses result              | `not(x > 5)` = False if x > 5 |\n"
   ]
  },
  {
   "cell_type": "code",
   "execution_count": 4,
   "id": "2957811b",
   "metadata": {},
   "outputs": [
    {
     "name": "stdout",
     "output_type": "stream",
     "text": [
      "True\n",
      "True\n",
      "False\n",
      "\n",
      "x > 5 and x < 10: True, x > 10 or x == 7: True, not(x > 5): False\n"
     ]
    }
   ],
   "source": [
    "x = 7\n",
    "print(x > 5 and x < 10)  # True\n",
    "print(x > 10 or x == 7)  # True\n",
    "print(not(x > 5))        # False\n",
    "\n",
    "# Using f-strings for formatted output with logical expressions\n",
    "print(f\"\\nx > 5 and x < 10: {x > 5 and x < 10}, x > 10 or x == 7: {x > 10 or x == 7}, not(x > 5): {not(x > 5)}\")"
   ]
  },
  {
   "cell_type": "markdown",
   "id": "8ec2a4e7",
   "metadata": {},
   "source": [
    "## 🔸 5. Identity Operators\n",
    "### Used to check if two variables point to the same object in memory.\n",
    "\n",
    "| Operator | Meaning             | Example      |\n",
    "| -------- | ------------------- | ------------ |\n",
    "| `is`     | True if same object | `x is y`     |\n",
    "| `is not` | True if not same    | `x is not y` |\n"
   ]
  },
  {
   "cell_type": "code",
   "execution_count": 6,
   "id": "99aa16af",
   "metadata": {},
   "outputs": [
    {
     "name": "stdout",
     "output_type": "stream",
     "text": [
      "True\n",
      "False\n"
     ]
    }
   ],
   "source": [
    "a = [1, 2]\n",
    "b = a\n",
    "c = [1, 2]\n",
    "\n",
    "print(a is b)     \n",
    "print(a is c)     \n"
   ]
  },
  {
   "cell_type": "markdown",
   "id": "f21532ad",
   "metadata": {},
   "source": [
    "## 🔸 6. Membership Operators\n",
    "### Used to check if a value is present in a sequence (like string or list).\n",
    "\n",
    "| Operator | Meaning                     | Example                    |\n",
    "| -------- | --------------------------- | -------------------------- |\n",
    "| `in`     | True if value exists        | `'a' in 'apple' → True`    |\n",
    "| `not in` | True if value doesn’t exist | `'x' not in 'box' → False` |\n"
   ]
  },
  {
   "cell_type": "code",
   "execution_count": 8,
   "id": "e3147547",
   "metadata": {},
   "outputs": [
    {
     "name": "stdout",
     "output_type": "stream",
     "text": [
      "True\n",
      "True\n",
      "\n",
      "'apple' in fruits: True, 'mango' not in fruits: True\n"
     ]
    }
   ],
   "source": [
    "fruits = [\"apple\", \"banana\"]\n",
    "print(\"apple\" in fruits)      # True\n",
    "print(\"mango\" not in fruits)  # True\n",
    "\n",
    "# Using f-strings for formatted output with identity and membership operators\n",
    "print(f\"\\n'apple' in fruits: {'apple' in fruits}, 'mango' not in fruits: {'mango' not in fruits}\")"
   ]
  },
  {
   "cell_type": "markdown",
   "id": "e0bd31c2",
   "metadata": {},
   "source": [
    "# 🔍 Conditional Statements (if, elif, else)"
   ]
  },
  {
   "cell_type": "markdown",
   "id": "ae9c8491",
   "metadata": {},
   "source": [
    "## 🧠 Why Do We Need Conditionals?\n",
    "### Imagine you're creating a login system:\n",
    "\n",
    "### If the password is correct → allow login\n",
    "\n",
    "### If the password is wrong → deny access\n",
    "\n",
    "### We need a way to control the flow — and Python’s conditional statements help us do that."
   ]
  },
  {
   "cell_type": "markdown",
   "id": "3d90e76c",
   "metadata": {},
   "source": [
    "## 🔹 1. if Statement"
   ]
  },
  {
   "cell_type": "code",
   "execution_count": null,
   "id": "a9ac4371",
   "metadata": {},
   "outputs": [
    {
     "name": "stdout",
     "output_type": "stream",
     "text": [
      "You are an adult.\n"
     ]
    }
   ],
   "source": [
    "age = 18\n",
    "\n",
    "if age >= 18:\n",
    "    print(\"You are an adult.\")\n",
    "\n",
    "# If the condition (age >= 18) is true, the block under it will run."
   ]
  },
  {
   "cell_type": "markdown",
   "id": "47a33544",
   "metadata": {},
   "source": [
    "## 🔹 2. if-else Statement"
   ]
  },
  {
   "cell_type": "code",
   "execution_count": null,
   "id": "5ba8c908",
   "metadata": {},
   "outputs": [
    {
     "name": "stdout",
     "output_type": "stream",
     "text": [
      "You are underage.\n"
     ]
    }
   ],
   "source": [
    "age = 15\n",
    "\n",
    "if age >= 18:\n",
    "    print(\"You are an adult.\")\n",
    "else:\n",
    "    print(\"You are underage.\")\n",
    "\n",
    "# The else block runs only if the if condition is false."
   ]
  },
  {
   "cell_type": "markdown",
   "id": "d6a83e76",
   "metadata": {},
   "source": [
    "## 🔹 3. if-elif-else Chain"
   ]
  },
  {
   "cell_type": "code",
   "execution_count": null,
   "id": "f549908c",
   "metadata": {},
   "outputs": [
    {
     "name": "stdout",
     "output_type": "stream",
     "text": [
      "Grade: B\n"
     ]
    }
   ],
   "source": [
    "marks = 75\n",
    "\n",
    "if marks >= 90:\n",
    "    print(\"Grade: A+\")\n",
    "elif marks >= 80:\n",
    "    print(\"Grade: A\")\n",
    "elif marks >= 70:\n",
    "    print(\"Grade: B\")\n",
    "else:\n",
    "    print(\"Grade: C or below\")\n",
    "\n",
    "# Python checks conditions from top to bottom, and executes only the first True one."
   ]
  },
  {
   "cell_type": "markdown",
   "id": "468226ae",
   "metadata": {},
   "source": [
    "## 🔹 4. Using Comparison & Logical Operators in Conditions"
   ]
  },
  {
   "cell_type": "code",
   "execution_count": null,
   "id": "aa80fa14",
   "metadata": {},
   "outputs": [],
   "source": [
    "age = 25\n",
    "country = \"Pakistan\"\n",
    "\n",
    "if age > 18 and country == \"Pakistan\":\n",
    "    print(\"Eligible for National ID card.\")\n"
   ]
  },
  {
   "cell_type": "markdown",
   "id": "760152b7",
   "metadata": {},
   "source": [
    "## 🔹 5. Nested if (if inside another if)"
   ]
  },
  {
   "cell_type": "code",
   "execution_count": 4,
   "id": "31b6c11c",
   "metadata": {},
   "outputs": [
    {
     "name": "stdout",
     "output_type": "stream",
     "text": [
      "You may enter.\n"
     ]
    }
   ],
   "source": [
    "age = 20\n",
    "has_id = True\n",
    "\n",
    "if age >= 18:\n",
    "    if has_id:\n",
    "        print(\"You may enter.\")\n",
    "    else:\n",
    "        print(\"ID required.\")\n",
    "else:\n",
    "    print(\"Not allowed.\")\n"
   ]
  },
  {
   "cell_type": "markdown",
   "id": "eaef1a26",
   "metadata": {},
   "source": [
    "# Loops in Python (for, while)\n",
    "## Loops allow you to repeat a block of code multiple times without writing it again and again."
   ]
  },
  {
   "cell_type": "markdown",
   "id": "e4024483",
   "metadata": {},
   "source": [
    "## Why Use Loops?\n",
    "### Imagine you want to print \"Hello\" 20 times. Without a loop, you’d need to write 100 print(\"Hello\") lines."
   ]
  },
  {
   "cell_type": "code",
   "execution_count": 3,
   "id": "91a26485",
   "metadata": {},
   "outputs": [
    {
     "name": "stdout",
     "output_type": "stream",
     "text": [
      "Hello\n",
      "Hello\n",
      "Hello\n",
      "Hello\n",
      "Hello\n",
      "Hello\n",
      "Hello\n",
      "Hello\n",
      "Hello\n",
      "Hello\n",
      "Hello\n",
      "Hello\n",
      "Hello\n",
      "Hello\n",
      "Hello\n",
      "Hello\n",
      "Hello\n",
      "Hello\n",
      "Hello\n",
      "Hello\n"
     ]
    }
   ],
   "source": [
    "for i in range(20):\n",
    "    print(\"Hello\")\n"
   ]
  },
  {
   "cell_type": "markdown",
   "id": "1c21b451",
   "metadata": {},
   "source": [
    "## Types of Loops in Python"
   ]
  },
  {
   "cell_type": "markdown",
   "id": "9cf7ef84",
   "metadata": {},
   "source": [
    "| Loop Type    | Used For                                |\n",
    "| ------------ | --------------------------------------- |\n",
    "| `for` loop   | Repeating over a sequence               |\n",
    "| `while` loop | Repeating **while a condition is True** |\n"
   ]
  },
  {
   "cell_type": "markdown",
   "id": "16c6c9e3",
   "metadata": {},
   "source": [
    "# 1. for Loop\n",
    "### The for loop is used to iterate (repeat) over sequences like:\n",
    "\n",
    "### Lists\n",
    "\n",
    "### Strings\n",
    "\n",
    "### Tuples\n",
    "\n",
    "### Ranges"
   ]
  },
  {
   "cell_type": "markdown",
   "id": "ac81864b",
   "metadata": {},
   "source": [
    "## Loop over a list"
   ]
  },
  {
   "cell_type": "code",
   "execution_count": 4,
   "id": "66e881f1",
   "metadata": {},
   "outputs": [
    {
     "name": "stdout",
     "output_type": "stream",
     "text": [
      "apple\n",
      "banana\n",
      "cherry\n"
     ]
    }
   ],
   "source": [
    "fruits = [\"apple\", \"banana\", \"cherry\"]\n",
    "\n",
    "for fruit in fruits:\n",
    "    print(fruit)"
   ]
  },
  {
   "cell_type": "markdown",
   "id": "5a4ba6e0",
   "metadata": {},
   "source": [
    "# Use range()"
   ]
  },
  {
   "cell_type": "code",
   "execution_count": 5,
   "id": "601666b5",
   "metadata": {},
   "outputs": [
    {
     "name": "stdout",
     "output_type": "stream",
     "text": [
      "0\n",
      "1\n",
      "2\n",
      "3\n",
      "4\n"
     ]
    }
   ],
   "source": [
    "for i in range(5):\n",
    "    print(i)"
   ]
  },
  {
   "cell_type": "code",
   "execution_count": null,
   "id": "2e4616f9",
   "metadata": {},
   "outputs": [],
   "source": [
    "# range(start, stop, step)\n",
    "# range(1, 10, 2)  # 1, 3, 5, 7, 9"
   ]
  },
  {
   "cell_type": "markdown",
   "id": "f5b7a492",
   "metadata": {},
   "source": [
    "# Loop over a string"
   ]
  },
  {
   "cell_type": "code",
   "execution_count": 6,
   "id": "0772f93d",
   "metadata": {},
   "outputs": [
    {
     "name": "stdout",
     "output_type": "stream",
     "text": [
      "h\n",
      "e\n",
      "l\n",
      "l\n",
      "o\n"
     ]
    }
   ],
   "source": [
    "for char in \"hello\":\n",
    "    print(char)"
   ]
  },
  {
   "cell_type": "markdown",
   "id": "37c99812",
   "metadata": {},
   "source": [
    "# while Loop\n",
    "## The while loop runs as long as a condition is True."
   ]
  },
  {
   "cell_type": "code",
   "execution_count": 7,
   "id": "23f15cac",
   "metadata": {},
   "outputs": [
    {
     "name": "stdout",
     "output_type": "stream",
     "text": [
      "Count is 1\n",
      "Count is 2\n",
      "Count is 3\n",
      "Count is 4\n",
      "Count is 5\n"
     ]
    }
   ],
   "source": [
    "count = 1\n",
    "while count <= 5:\n",
    "    print(\"Count is\", count)\n",
    "    count += 1"
   ]
  },
  {
   "cell_type": "markdown",
   "id": "abe89fba",
   "metadata": {},
   "source": [
    "## 🧠 Real-Life Examples:\n",
    "### 📦 Example: Sum of 1 to N"
   ]
  },
  {
   "cell_type": "code",
   "execution_count": 8,
   "id": "8f2a611c",
   "metadata": {},
   "outputs": [
    {
     "name": "stdout",
     "output_type": "stream",
     "text": [
      "Sum is 36\n"
     ]
    }
   ],
   "source": [
    "n = int(input(\"Enter a number: \"))\n",
    "sum = 0\n",
    "\n",
    "for i in range(1, n+1):\n",
    "    sum += i\n",
    "\n",
    "print(\"Sum is\", sum)"
   ]
  },
  {
   "cell_type": "markdown",
   "id": "4843de74",
   "metadata": {},
   "source": [
    "## Even/Odd Checker"
   ]
  },
  {
   "cell_type": "code",
   "execution_count": null,
   "id": "4780126b",
   "metadata": {},
   "outputs": [],
   "source": [
    "for num in range(1, 11):\n",
    "    if num % 2 == 0:\n",
    "        print(num, \"is Even\")\n",
    "    else:\n",
    "        print(num, \"is Odd\")\n"
   ]
  },
  {
   "cell_type": "code",
   "execution_count": 11,
   "id": "1cf62ebd",
   "metadata": {},
   "outputs": [
    {
     "name": "stdout",
     "output_type": "stream",
     "text": [
      "5 x 1 = 5\n",
      "5 x 2 = 10\n",
      "5 x 3 = 15\n",
      "5 x 4 = 20\n",
      "5 x 5 = 25\n",
      "5 x 6 = 30\n",
      "5 x 7 = 35\n",
      "5 x 8 = 40\n",
      "5 x 9 = 45\n",
      "5 x 10 = 50\n"
     ]
    }
   ],
   "source": [
    "n = int(input(\"Enter a number: \"))\n",
    "for i in range(1,11):\n",
    "    print(f\"{n} x {i} = {n * i}\")\n"
   ]
  },
  {
   "cell_type": "markdown",
   "id": "3831bb9c",
   "metadata": {},
   "source": [
    "# Exception Handling in Python\n",
    "## Understand how to handle, raise, and design custom exceptions like professionals."
   ]
  },
  {
   "cell_type": "markdown",
   "id": "52f94816",
   "metadata": {},
   "source": [
    "## What is an Exception?\n",
    "### An exception is an error that occurs during the execution of a program.\n",
    "\n",
    "### Without handling it, your program will crash."
   ]
  },
  {
   "cell_type": "markdown",
   "id": "0be731bb",
   "metadata": {},
   "source": [
    "## Common Examples:"
   ]
  },
  {
   "cell_type": "code",
   "execution_count": 12,
   "id": "68bbc1b4",
   "metadata": {},
   "outputs": [
    {
     "ename": "ZeroDivisionError",
     "evalue": "division by zero",
     "output_type": "error",
     "traceback": [
      "\u001b[1;31m---------------------------------------------------------------------------\u001b[0m",
      "\u001b[1;31mZeroDivisionError\u001b[0m                         Traceback (most recent call last)",
      "Cell \u001b[1;32mIn[12], line 2\u001b[0m\n\u001b[0;32m      1\u001b[0m \u001b[38;5;66;03m# Exception Handling\u001b[39;00m\n\u001b[1;32m----> 2\u001b[0m \u001b[38;5;28mprint\u001b[39m(\u001b[38;5;241;43m10\u001b[39;49m\u001b[43m \u001b[49m\u001b[38;5;241;43m/\u001b[39;49m\u001b[43m \u001b[49m\u001b[38;5;241;43m0\u001b[39;49m)         \u001b[38;5;66;03m# ZeroDivisionError\u001b[39;00m\n\u001b[0;32m      3\u001b[0m \u001b[38;5;28mint\u001b[39m(\u001b[38;5;124m\"\u001b[39m\u001b[38;5;124mabc\u001b[39m\u001b[38;5;124m\"\u001b[39m)            \u001b[38;5;66;03m# ValueError\u001b[39;00m\n\u001b[0;32m      4\u001b[0m x \u001b[38;5;241m=\u001b[39m [\u001b[38;5;241m1\u001b[39m, \u001b[38;5;241m2\u001b[39m, \u001b[38;5;241m3\u001b[39m]\n",
      "\u001b[1;31mZeroDivisionError\u001b[0m: division by zero"
     ]
    }
   ],
   "source": [
    "# Exception Handling\n",
    "print(10 / 0)         # ZeroDivisionError\n",
    "int(\"abc\")            # ValueError\n",
    "x = [1, 2, 3]\n",
    "print(x[5])           # IndexError"
   ]
  },
  {
   "cell_type": "markdown",
   "id": "fc26f3f0",
   "metadata": {},
   "source": [
    "## Basic Example:"
   ]
  },
  {
   "cell_type": "code",
   "execution_count": 14,
   "id": "73d48972",
   "metadata": {},
   "outputs": [
    {
     "name": "stdout",
     "output_type": "stream",
     "text": [
      "You can't divide by zero!\n"
     ]
    }
   ],
   "source": [
    "\n",
    "try:\n",
    "    num = int(input(\"Enter a number: \"))\n",
    "    result = 10 / num\n",
    "    print(result)\n",
    "except ZeroDivisionError:\n",
    "    print(\"You can't divide by zero!\")\n",
    "except ValueError:\n",
    "    print(\"Enter only numeric input.\")"
   ]
  },
  {
   "cell_type": "markdown",
   "id": "4bb63ed8",
   "metadata": {},
   "source": [
    "## Multiple except Blocks"
   ]
  },
  {
   "cell_type": "code",
   "execution_count": 19,
   "id": "c3c3b1e8",
   "metadata": {},
   "outputs": [
    {
     "name": "stdout",
     "output_type": "stream",
     "text": [
      "Hello Abu, you are 25 years old.\n"
     ]
    }
   ],
   "source": [
    "try:\n",
    "    name = input(\"Enter your name: \")\n",
    "    age = int(input(\"Enter your age: \"))\n",
    "    print(f\"Hello {name}, you are {age} years old.\")\n",
    "except ValueError:\n",
    "    print(\"Invalid age input.\")\n",
    "except ZeroDivisionError:\n",
    "    print(\"Age cannot be zero.\")\n"
   ]
  },
  {
   "cell_type": "markdown",
   "id": "b0af017a",
   "metadata": {},
   "source": [
    "## Using else with try\n",
    "\n",
    "### Runs only if no exception occurs:"
   ]
  },
  {
   "cell_type": "code",
   "execution_count": 20,
   "id": "e53cfcf0",
   "metadata": {},
   "outputs": [
    {
     "name": "stdout",
     "output_type": "stream",
     "text": [
      "Result is: 2.5\n"
     ]
    }
   ],
   "source": [
    "try:\n",
    "    x = 5\n",
    "    y = 2\n",
    "    result = x / y\n",
    "except ZeroDivisionError:\n",
    "    print(\"Cannot divide by zero!\")\n",
    "else:\n",
    "    print(\"Result is:\", result)\n"
   ]
  },
  {
   "cell_type": "markdown",
   "id": "82348c24",
   "metadata": {},
   "source": [
    "## Using finally\n",
    "### Used to run code no matter what happens (useful for closing files, DBs):"
   ]
  },
  {
   "cell_type": "code",
   "execution_count": 23,
   "id": "c1dffb0a",
   "metadata": {},
   "outputs": [
    {
     "name": "stdout",
     "output_type": "stream",
     "text": [
      "File closed.\n"
     ]
    }
   ],
   "source": [
    "try:\n",
    "    file = open(\"data.txt\")\n",
    "    data = file.read()\n",
    "except FileNotFoundError:\n",
    "    print(\"File not found.\")\n",
    "finally:\n",
    "    file.close()\n",
    "    print(\"File closed.\")\n"
   ]
  },
  {
   "cell_type": "markdown",
   "id": "d77ef47b",
   "metadata": {},
   "source": [
    "## Raise Your Own Exception (raise)\n",
    "### Used when you want to manually trigger an error:"
   ]
  },
  {
   "cell_type": "code",
   "execution_count": 28,
   "id": "9f7a5fb7",
   "metadata": {},
   "outputs": [],
   "source": [
    "age = int(input(\"Enter age: \"))\n",
    "if age < 0:\n",
    "    raise ValueError(\"Age cannot be negative.\")"
   ]
  },
  {
   "cell_type": "markdown",
   "id": "56ecfa32",
   "metadata": {},
   "source": [
    "## Define Your Own Custom Exceptions\n",
    "### Used in larger apps or APIs:"
   ]
  },
  {
   "cell_type": "code",
   "execution_count": 40,
   "id": "ffa562d2",
   "metadata": {},
   "outputs": [
    {
     "name": "stdout",
     "output_type": "stream",
     "text": [
      "You must be 18+ to continue.\n"
     ]
    }
   ],
   "source": [
    "class UnderAgeError(Exception):\n",
    "    pass\n",
    "\n",
    "age = int(input(\"Enter your age: \"))\n",
    "try:\n",
    "    if age < 18:\n",
    "        raise UnderAgeError(\"You must be 18+ to continue.\")\n",
    "except UnderAgeError as e:\n",
    "    print(e)\n"
   ]
  },
  {
   "cell_type": "markdown",
   "id": "34c1007d",
   "metadata": {},
   "source": [
    "## Real-Life Industry Example: API Input Validation"
   ]
  },
  {
   "cell_type": "code",
   "execution_count": 43,
   "id": "890d8fac",
   "metadata": {},
   "outputs": [
    {
     "name": "stdout",
     "output_type": "stream",
     "text": [
      "Error: Discount must be between 0 and 100.\n"
     ]
    }
   ],
   "source": [
    "def calculate_discount(price, discount):\n",
    "    if not isinstance(price, (int, float)):\n",
    "        raise TypeError(\"Price must be a number.\")\n",
    "    if not (0 <= discount <= 100):\n",
    "        raise ValueError(\"Discount must be between 0 and 100.\")\n",
    "\n",
    "    return price * (1 - discount / 100)\n",
    "\n",
    "try:\n",
    "    print(calculate_discount(50, 120))  # Invalid\n",
    "except Exception as e:\n",
    "    print(\"Error:\", e)\n"
   ]
  },
  {
   "cell_type": "markdown",
   "id": "e9c88871",
   "metadata": {},
   "source": [
    "## Industry-Used Error Types\n",
    "\n",
    "| Exception Type      | When It Happens                       |\n",
    "| ------------------- | ------------------------------------- |\n",
    "| `ValueError`        | Wrong value type (e.g. int(\"abc\"))    |\n",
    "| `TypeError`         | Wrong data type operation             |\n",
    "| `KeyError`          | Missing key in dictionary             |\n",
    "| `IndexError`        | Accessing out-of-bound list index     |\n",
    "| `ZeroDivisionError` | Division by zero                      |\n",
    "| `FileNotFoundError` | File doesn't exist                    |\n",
    "| `ImportError`       | Module not found or can't be imported |\n",
    "| `AttributeError`    | Accessing an undefined attribute      |\n"
   ]
  },
  {
   "cell_type": "markdown",
   "id": "d5075eee",
   "metadata": {},
   "source": [
    "# 🧠 Functions in Python (Complete Professional Guide)\n"
   ]
  },
  {
   "cell_type": "markdown",
   "id": "5ec30fc0",
   "metadata": {},
   "source": [
    "## 🔹 What is a Function?\n",
    "### A function is a block of reusable code that performs a specific task.\n",
    "\n",
    "### Instead of writing the same code again and again, we define it once and call it wherever needed."
   ]
  },
  {
   "cell_type": "markdown",
   "id": "0a123b90",
   "metadata": {},
   "source": [
    "## ✅ 1. Defining and Calling Functions"
   ]
  },
  {
   "cell_type": "code",
   "execution_count": 44,
   "id": "3280561c",
   "metadata": {},
   "outputs": [
    {
     "name": "stdout",
     "output_type": "stream",
     "text": [
      "Hello, welcome!\n"
     ]
    }
   ],
   "source": [
    "def greet():\n",
    "    print(\"Hello, welcome!\")\n",
    "\n",
    "greet()  # Calling the function"
   ]
  },
  {
   "cell_type": "markdown",
   "id": "2936377a",
   "metadata": {},
   "source": [
    "- def → keyword to define a function\n",
    "\n",
    "- greet → function name\n",
    "\n",
    "- () → parentheses for parameters (if any)\n",
    "\n"
   ]
  },
  {
   "cell_type": "markdown",
   "id": "f57fa710",
   "metadata": {},
   "source": [
    "# ✅ 2. Parameters and Arguments\n",
    "## Parameters: Variables used in function definition\n",
    "## Arguments: Actual values passed when calling the function"
   ]
  },
  {
   "cell_type": "code",
   "execution_count": 45,
   "id": "138b0503",
   "metadata": {},
   "outputs": [
    {
     "name": "stdout",
     "output_type": "stream",
     "text": [
      "Hello Abubakar\n"
     ]
    }
   ],
   "source": [
    "def greet(name):  # 'name' is a parameter\n",
    "    print(\"Hello\", name)\n",
    "\n",
    "greet(\"Abubakar\")  # 'Abubakar' is an argument"
   ]
  },
  {
   "cell_type": "markdown",
   "id": "c52dc00c",
   "metadata": {},
   "source": [
    "# ✅ 3. Function with Return Value\n",
    "## Functions can return results using return.\n"
   ]
  },
  {
   "cell_type": "code",
   "execution_count": 46,
   "id": "f4ffc0c8",
   "metadata": {},
   "outputs": [
    {
     "name": "stdout",
     "output_type": "stream",
     "text": [
      "Result: 8\n"
     ]
    }
   ],
   "source": [
    "def add(a, b):\n",
    "    return a + b\n",
    "\n",
    "result = add(5, 3)\n",
    "print(\"Result:\", result)  # Output: 8"
   ]
  },
  {
   "cell_type": "code",
   "execution_count": 48,
   "id": "f0eee8eb",
   "metadata": {},
   "outputs": [
    {
     "name": "stdout",
     "output_type": "stream",
     "text": [
      "5 6\n"
     ]
    }
   ],
   "source": [
    "def calc(a, b):\n",
    "    return a + b, a * b\n",
    "\n",
    "x, y = calc(2, 3)\n",
    "print(x , y)  # Output: 5 6\n"
   ]
  },
  {
   "cell_type": "markdown",
   "id": "c51ae040",
   "metadata": {},
   "source": [
    "## 🔹 4. Default Parameters\n",
    "### If you don’t provide an argument, the default will be used."
   ]
  },
  {
   "cell_type": "code",
   "execution_count": 49,
   "id": "a50b51d5",
   "metadata": {},
   "outputs": [
    {
     "name": "stdout",
     "output_type": "stream",
     "text": [
      "Hello Guest\n",
      "Hello Ali\n"
     ]
    }
   ],
   "source": [
    "def greet(name=\"Guest\"):\n",
    "    print(\"Hello\", name)\n",
    "\n",
    "greet()             # Hello Guest\n",
    "greet(\"Ali\")        # Hello Ali\n"
   ]
  },
  {
   "cell_type": "markdown",
   "id": "f2bb3f55",
   "metadata": {},
   "source": [
    "## 🔹 5. Keyword Arguments (Named Arguments)\n",
    "## Pass arguments using names — order doesn't matter."
   ]
  },
  {
   "cell_type": "code",
   "execution_count": 50,
   "id": "017c43a8",
   "metadata": {},
   "outputs": [
    {
     "name": "stdout",
     "output_type": "stream",
     "text": [
      "Awais is 25 years old.\n"
     ]
    }
   ],
   "source": [
    "def info(name, age):\n",
    "    print(name, \"is\", age, \"years old.\")\n",
    "\n",
    "info(age=25, name=\"Awais\")"
   ]
  },
  {
   "cell_type": "markdown",
   "id": "e763282a",
   "metadata": {},
   "source": [
    "## 🔹 6. *args — Variable Number of Positional Arguments\n",
    "## 🔹 What is *args?\n",
    "### *args allows a function to accept any number of positional arguments (numbers, strings, etc.) without defining them one by one.\n",
    "\n"
   ]
  },
  {
   "cell_type": "code",
   "execution_count": 57,
   "id": "d8625043",
   "metadata": {},
   "outputs": [
    {
     "name": "stdout",
     "output_type": "stream",
     "text": [
      "Hello Ali\n",
      "Hello Ahmed\n",
      "Hello Sara\n"
     ]
    }
   ],
   "source": [
    "def greet_all(*names):\n",
    "    for name in names:\n",
    "        print(\"Hello\", name)\n",
    "\n",
    "greet_all(\"Ali\", \"Ahmed\", \"Sara\")\n"
   ]
  },
  {
   "cell_type": "code",
   "execution_count": null,
   "id": "8515c1ee",
   "metadata": {},
   "outputs": [
    {
     "name": "stdout",
     "output_type": "stream",
     "text": [
      "Order ID: 101\n",
      "Items:\n",
      "- Burger\n",
      "- Fries\n",
      "- Cola\n"
     ]
    }
   ],
   "source": [
    "def order_summary(order_id, *items):\n",
    "    print(\"Order ID:\", order_id)\n",
    "    print(\"Items:\")\n",
    "    for item in items:\n",
    "        print(\"-\", item)\n",
    "\n",
    "order_summary(101, \"Burger\", \"Fries\", \"Cola\")\n",
    "\n",
    "# *args is a tuple.\n"
   ]
  },
  {
   "cell_type": "markdown",
   "id": "b839cf5a",
   "metadata": {},
   "source": [
    "## 🔹 7 **kwargs — Variable Number of Keyword Arguments"
   ]
  },
  {
   "cell_type": "markdown",
   "id": "391390ba",
   "metadata": {},
   "source": [
    "## 🔸 What is **kwargs in Python?\n",
    "### **kwargs allows you to pass a variable number of keyword arguments (arguments with names/keys) to a function.\n",
    "\n",
    "### It collects them into a dictionary (dict) where:\n",
    "\n",
    "### Keys are the argument names\n",
    "\n",
    "### Values are the values passed to those keys"
   ]
  },
  {
   "cell_type": "markdown",
   "id": "b2dfb918",
   "metadata": {},
   "source": [
    "## ✅ Example 1: Printing student details"
   ]
  },
  {
   "cell_type": "code",
   "execution_count": 59,
   "id": "0e33066e",
   "metadata": {},
   "outputs": [
    {
     "name": "stdout",
     "output_type": "stream",
     "text": [
      "name: Ali\n",
      "age: 20\n",
      "city: Karachi\n"
     ]
    }
   ],
   "source": [
    "def student_info(**kwargs):\n",
    "    for key, value in kwargs.items():\n",
    "        print(f\"{key}: {value}\")\n",
    "\n",
    "student_info(name=\"Ali\", age=20, city=\"Karachi\")"
   ]
  },
  {
   "cell_type": "markdown",
   "id": "2bc160c6",
   "metadata": {},
   "source": [
    "## ✅ Example 2: Handling optional information\n"
   ]
  },
  {
   "cell_type": "code",
   "execution_count": null,
   "id": "202c2321",
   "metadata": {},
   "outputs": [
    {
     "name": "stdout",
     "output_type": "stream",
     "text": [
      "Employee ID: 101\n",
      "name: Ayesha\n",
      "department: HR\n",
      "shift: Morning\n"
     ]
    }
   ],
   "source": [
    "def employee_profile(id, **kwargs):\n",
    "    print(\"Employee ID:\", id)\n",
    "    for key, value in kwargs.items():\n",
    "        print(f\"{key}: {value}\")\n",
    "\n",
    "employee_profile(101, name=\"Maria\", department=\"HR\", shift=\"Morning\")\n"
   ]
  },
  {
   "cell_type": "markdown",
   "id": "4f4cc377",
   "metadata": {},
   "source": [
    "## 🔹 8. Docstrings — Function Documentation\n",
    "### ✅ What is a docstring?\n",
    "### A docstring is a special multi-line string written inside a function (or class/module) to describe what it does.\n",
    "\n",
    "### You write it just after the function definition using triple quotes \"\"\" \"\"\" or ''' '''.\n",
    "\n",
    "### It helps others (and yourself) understand:\n",
    "\n",
    "- What the function does\n",
    "\n",
    "- What parameters it takes\n",
    "\n",
    "- What it returns"
   ]
  },
  {
   "cell_type": "code",
   "execution_count": 64,
   "id": "cbfc3585",
   "metadata": {},
   "outputs": [
    {
     "name": "stdout",
     "output_type": "stream",
     "text": [
      "8\n"
     ]
    }
   ],
   "source": [
    "def add(a, b):\n",
    "    \"\"\"\n",
    "    This function takes two numbers\n",
    "    and returns their sum.\n",
    "    \"\"\"\n",
    "    return a + b\n",
    "\n",
    "print(add(3, 5))  # Output: 8\n"
   ]
  },
  {
   "cell_type": "markdown",
   "id": "481d7afe",
   "metadata": {},
   "source": [
    "## 🔍 Viewing the Docstring:\n",
    "### You can view a function’s docstring using the built-in help() function:"
   ]
  },
  {
   "cell_type": "code",
   "execution_count": 63,
   "id": "8db6eace",
   "metadata": {},
   "outputs": [
    {
     "name": "stdout",
     "output_type": "stream",
     "text": [
      "Help on function add in module __main__:\n",
      "\n",
      "add(a, b)\n",
      "    This function takes two numbers\n",
      "    and returns their sum.\n",
      "\n"
     ]
    }
   ],
   "source": [
    "help(add)  # Displays the docstring of the function"
   ]
  },
  {
   "cell_type": "markdown",
   "id": "43bd0f3a",
   "metadata": {},
   "source": [
    "## ✅ Example with Parameters and Return Type:"
   ]
  },
  {
   "cell_type": "code",
   "execution_count": 65,
   "id": "c7d9566a",
   "metadata": {},
   "outputs": [],
   "source": [
    "def greet(name):\n",
    "    \"\"\"\n",
    "    Greet the person by their name.\n",
    "\n",
    "    Parameters:\n",
    "    name (str): The name of the person\n",
    "\n",
    "    Returns:\n",
    "    str: Greeting message\n",
    "    \"\"\"\n",
    "    return f\"Hello, {name}!\"\n"
   ]
  },
  {
   "cell_type": "markdown",
   "id": "09481f5c",
   "metadata": {},
   "source": [
    "## 🔹 9. Nested Functions (Function Inside a Function)\n",
    "### ✅ What is a Nested Function?\n",
    "### A nested function is a function defined inside another function."
   ]
  },
  {
   "cell_type": "markdown",
   "id": "d89a4112",
   "metadata": {},
   "source": [
    "### ✅ Syntax:"
   ]
  },
  {
   "cell_type": "code",
   "execution_count": null,
   "id": "d04c0631",
   "metadata": {},
   "outputs": [
    {
     "name": "stdout",
     "output_type": "stream",
     "text": [
      "I am the inner function\n"
     ]
    }
   ],
   "source": [
    "\n",
    "def outer_function():\n",
    "    def inner_function():\n",
    "        print(\"I am the inner function\")\n",
    "    inner_function()  # Calling inner function from inside outer"
   ]
  },
  {
   "cell_type": "markdown",
   "id": "ba0304a1",
   "metadata": {},
   "source": [
    "## 🔍 Simple Nested Function"
   ]
  },
  {
   "cell_type": "code",
   "execution_count": 66,
   "id": "fa7926b9",
   "metadata": {},
   "outputs": [
    {
     "name": "stdout",
     "output_type": "stream",
     "text": [
      "This is the outer function.\n",
      "Hello from the inner function!\n"
     ]
    }
   ],
   "source": [
    "\n",
    "def greet():\n",
    "    def say_hello():\n",
    "        print(\"Hello from the inner function!\")\n",
    "    \n",
    "    print(\"This is the outer function.\")\n",
    "    say_hello()\n",
    "\n",
    "greet()"
   ]
  },
  {
   "cell_type": "markdown",
   "id": "448b8023",
   "metadata": {},
   "source": [
    "### ✅ Example 1: Calculator with Nested Functions"
   ]
  },
  {
   "cell_type": "code",
   "execution_count": 67,
   "id": "a56cb7d5",
   "metadata": {},
   "outputs": [
    {
     "name": "stdout",
     "output_type": "stream",
     "text": [
      "Addition: 15\n",
      "Subtraction: 5\n",
      "Multiplication: 50\n",
      "Division: 2.0\n"
     ]
    }
   ],
   "source": [
    "\n",
    "def calculator(a, b):\n",
    "    def add():\n",
    "        return a + b\n",
    "\n",
    "    def subtract():\n",
    "        return a - b\n",
    "\n",
    "    def multiply():\n",
    "        return a * b\n",
    "\n",
    "    def divide():\n",
    "        return a / b if b != 0 else \"Cannot divide by zero\"\n",
    "\n",
    "    print(\"Addition:\", add())\n",
    "    print(\"Subtraction:\", subtract())\n",
    "    print(\"Multiplication:\", multiply())\n",
    "    print(\"Division:\", divide())\n",
    "\n",
    "calculator(10, 5)"
   ]
  },
  {
   "cell_type": "markdown",
   "id": "26516827",
   "metadata": {},
   "source": [
    "## 🔹 What is Scope?\n",
    "### Scope refers to the region or area of a program where a variable is recognized and can be used.\n",
    "\n"
   ]
  },
  {
   "cell_type": "markdown",
   "id": "5a2cc6d0",
   "metadata": {},
   "source": [
    "## 🧠 Two Main Types of Scope in Python:\n",
    "| Type       | Meaning                               |\n",
    "| ---------- | ------------------------------------- |\n",
    "| **Local**  | Inside a function (limited area)      |\n",
    "| **Global** | Outside all functions (whole program) |\n"
   ]
  },
  {
   "cell_type": "markdown",
   "id": "d65baca9",
   "metadata": {},
   "source": [
    "## 🔹 1. Global Variables\n",
    "## ✅ Definition:\n",
    "### A variable that is declared outside of all functions and is accessible throughout the entire file (globally)."
   ]
  },
  {
   "cell_type": "code",
   "execution_count": 68,
   "id": "fd0017af",
   "metadata": {},
   "outputs": [
    {
     "name": "stdout",
     "output_type": "stream",
     "text": [
      "Inside function: 10\n",
      "Outside function: 10\n"
     ]
    }
   ],
   "source": [
    "x = 10  # Global variable\n",
    "\n",
    "def show():\n",
    "    print(\"Inside function:\", x)\n",
    "\n",
    "show()\n",
    "print(\"Outside function:\", x)\n"
   ]
  },
  {
   "cell_type": "markdown",
   "id": "d251f33a",
   "metadata": {},
   "source": [
    "## 🔹 2. Local Variables\n",
    "## ✅ Definition:\n",
    "### A variable declared inside a function, which can only be used inside that function."
   ]
  },
  {
   "cell_type": "code",
   "execution_count": 3,
   "id": "8f706215",
   "metadata": {},
   "outputs": [
    {
     "name": "stdout",
     "output_type": "stream",
     "text": [
      "Hello\n"
     ]
    }
   ],
   "source": [
    "def greet():\n",
    "    message = \"Hello\"  # Local variable\n",
    "    print(message)\n",
    "\n",
    "greet()\n",
    "# print(message)  # ❌ Error: message is not defined here\n"
   ]
  },
  {
   "cell_type": "markdown",
   "id": "46fb30f5",
   "metadata": {},
   "source": [
    "### 📝 message is only available inside the function."
   ]
  },
  {
   "cell_type": "markdown",
   "id": "b0aa6341",
   "metadata": {},
   "source": [
    "## ❌ Trying to Modify Global Variable Without global Keyword"
   ]
  },
  {
   "cell_type": "code",
   "execution_count": 72,
   "id": "54022a54",
   "metadata": {},
   "outputs": [
    {
     "ename": "UnboundLocalError",
     "evalue": "cannot access local variable 'x' where it is not associated with a value",
     "output_type": "error",
     "traceback": [
      "\u001b[1;31m---------------------------------------------------------------------------\u001b[0m",
      "\u001b[1;31mUnboundLocalError\u001b[0m                         Traceback (most recent call last)",
      "Cell \u001b[1;32mIn[72], line 7\u001b[0m\n\u001b[0;32m      4\u001b[0m     x \u001b[38;5;241m=\u001b[39m x \u001b[38;5;241m+\u001b[39m \u001b[38;5;241m1\u001b[39m  \u001b[38;5;66;03m# ❌ Error: UnboundLocalError\u001b[39;00m\n\u001b[0;32m      5\u001b[0m     \u001b[38;5;28mprint\u001b[39m(x)\n\u001b[1;32m----> 7\u001b[0m \u001b[43mupdate\u001b[49m\u001b[43m(\u001b[49m\u001b[43m)\u001b[49m\n",
      "Cell \u001b[1;32mIn[72], line 4\u001b[0m, in \u001b[0;36mupdate\u001b[1;34m()\u001b[0m\n\u001b[0;32m      3\u001b[0m \u001b[38;5;28;01mdef\u001b[39;00m \u001b[38;5;21mupdate\u001b[39m():\n\u001b[1;32m----> 4\u001b[0m     x \u001b[38;5;241m=\u001b[39m \u001b[43mx\u001b[49m \u001b[38;5;241m+\u001b[39m \u001b[38;5;241m1\u001b[39m  \u001b[38;5;66;03m# ❌ Error: UnboundLocalError\u001b[39;00m\n\u001b[0;32m      5\u001b[0m     \u001b[38;5;28mprint\u001b[39m(x)\n",
      "\u001b[1;31mUnboundLocalError\u001b[0m: cannot access local variable 'x' where it is not associated with a value"
     ]
    }
   ],
   "source": [
    "x = 10\n",
    "\n",
    "def update():\n",
    "    x = x + 1  # ❌ Error: UnboundLocalError\n",
    "    print(x)\n",
    "\n",
    "update()"
   ]
  },
  {
   "cell_type": "markdown",
   "id": "c72bb341",
   "metadata": {},
   "source": [
    "## 🚫 Why error?\n",
    "\n",
    "### Python thinks you're trying to create a local variable x, but you're also trying to use its value before it's assigned."
   ]
  },
  {
   "cell_type": "markdown",
   "id": "cc40352d",
   "metadata": {},
   "source": [
    "## 🔧 Solution: Use global Keyword"
   ]
  },
  {
   "cell_type": "code",
   "execution_count": 73,
   "id": "2380d97a",
   "metadata": {},
   "outputs": [
    {
     "name": "stdout",
     "output_type": "stream",
     "text": [
      "Updated x: 11\n",
      "Global x: 11\n"
     ]
    }
   ],
   "source": [
    "x = 10\n",
    "\n",
    "def update():\n",
    "    global x\n",
    "    x = x + 1\n",
    "    print(\"Updated x:\", x)\n",
    "\n",
    "update()\n",
    "print(\"Global x:\", x)\n"
   ]
  },
  {
   "cell_type": "markdown",
   "id": "7b74202f",
   "metadata": {},
   "source": [
    "## 🔄 Local vs Global – Quick Comparison\n",
    "\n",
    "| Feature          | Local Variable            | Global Variable                     |\n",
    "| ---------------- | ------------------------- | ----------------------------------- |\n",
    "| Where Defined    | Inside a function         | Outside all functions               |\n",
    "| Where Accessible | Only inside that function | Entire program                      |\n",
    "| Lifespan         | During function call      | As long as program runs             |\n",
    "| Use in Functions | Defined & used freely     | Must use `global` keyword to modify |\n",
    "| Good Practice    | For temporary use         | For config, constants               |\n"
   ]
  },
  {
   "cell_type": "markdown",
   "id": "7a8fc3c6",
   "metadata": {},
   "source": [
    "## 🧠 Advanced: Nested Scope (LEGB Rule)\n",
    "### Python checks variable scope in this order:\n",
    "\n",
    "### LEGB:\n",
    "\n",
    "- Local (inside function)\n",
    "\n",
    "- Enclosing (inside nested functions)\n",
    "\n",
    "- Global (module-level)\n",
    "\n",
    "- Built-in (Python keywords like len, sum, etc.)"
   ]
  },
  {
   "cell_type": "code",
   "execution_count": 74,
   "id": "d65c928e",
   "metadata": {},
   "outputs": [
    {
     "name": "stdout",
     "output_type": "stream",
     "text": [
      "Inner: local\n",
      "Outer: enclosing\n",
      "Global: global\n"
     ]
    }
   ],
   "source": [
    "x = \"global\"\n",
    "\n",
    "def outer():\n",
    "    x = \"enclosing\"\n",
    "    def inner():\n",
    "        x = \"local\"\n",
    "        print(\"Inner:\", x)\n",
    "    inner()\n",
    "    print(\"Outer:\", x)\n",
    "\n",
    "outer()\n",
    "print(\"Global:\", x)\n"
   ]
  },
  {
   "cell_type": "markdown",
   "id": "69b279ac",
   "metadata": {},
   "source": [
    "## ✅ Best Practices\n",
    "### Use local variables as much as possible.\n",
    "\n",
    "### Use global variables only when needed (for configuration or constants).\n",
    "\n",
    "### Avoid using the same name for local and global variables — it causes confusion.\n",
    "\n",
    "### For modifying global variables inside functions, always use global keyword.\n",
    "\n"
   ]
  },
  {
   "cell_type": "markdown",
   "id": "a3322a98",
   "metadata": {},
   "source": [
    "## Real-Life Example:"
   ]
  },
  {
   "cell_type": "code",
   "execution_count": 75,
   "id": "bf9f254f",
   "metadata": {},
   "outputs": [
    {
     "name": "stdout",
     "output_type": "stream",
     "text": [
      "Visitor added. Total: 1\n",
      "Visitor added. Total: 2\n"
     ]
    }
   ],
   "source": [
    "total_visitors = 0  # Global variable\n",
    "\n",
    "def visit():\n",
    "    global total_visitors\n",
    "    total_visitors += 1\n",
    "    print(\"Visitor added. Total:\", total_visitors)\n",
    "\n",
    "visit()\n",
    "visit()\n"
   ]
  },
  {
   "cell_type": "markdown",
   "id": "1fc4d57f",
   "metadata": {},
   "source": [
    "# 🔹 What is a Lambda Function?\n",
    "## A lambda function in Python is a small, anonymous, one-line function.\n",
    "\n",
    "### ✅ It has no name (anonymous)\n",
    "### ✅ It is defined using the keyword lambda\n",
    "### ✅ It is used when you need a quick function for short-term use"
   ]
  },
  {
   "cell_type": "markdown",
   "id": "2ae9cae7",
   "metadata": {},
   "source": [
    "### ✅ Basic Syntax"
   ]
  },
  {
   "cell_type": "code",
   "execution_count": null,
   "id": "5d5907d8",
   "metadata": {},
   "outputs": [],
   "source": [
    "lambda arguments: expression\n"
   ]
  },
  {
   "cell_type": "markdown",
   "id": "016d070b",
   "metadata": {},
   "source": [
    "### 🔍 Example:"
   ]
  },
  {
   "cell_type": "code",
   "execution_count": null,
   "id": "bf13e527",
   "metadata": {},
   "outputs": [],
   "source": [
    "add = lambda x, y: x + y\n",
    "print(add(5, 3))  "
   ]
  },
  {
   "cell_type": "markdown",
   "id": "c978f0af",
   "metadata": {},
   "source": [
    "## 🧠 Explanation:\n",
    "\n",
    "### lambda x, y: → function takes 2 arguments\n",
    "\n",
    "### x + y → the expression to return\n",
    "\n",
    "### add becomes a reference to the lambda function"
   ]
  },
  {
   "cell_type": "markdown",
   "id": "797affb4",
   "metadata": {},
   "source": [
    "## 🔹 Where Are Lambda Functions Commonly Used?\n",
    "### Mostly used with:\n",
    "\n",
    "### map()\n",
    "\n",
    "### filter()\n",
    "\n",
    "### reduce() (from functools)\n",
    "\n",
    "### sorted() for custom sorting\n",
    "\n",
    "### GUI frameworks, quick scripts, etc.\n",
    "\n"
   ]
  },
  {
   "cell_type": "markdown",
   "id": "3570e41e",
   "metadata": {},
   "source": [
    "### 1️⃣ map() with lambda – Apply function to each item in a list"
   ]
  },
  {
   "cell_type": "code",
   "execution_count": 4,
   "id": "3f7d0572",
   "metadata": {},
   "outputs": [
    {
     "name": "stdout",
     "output_type": "stream",
     "text": [
      "[1, 4, 9, 16]\n"
     ]
    }
   ],
   "source": [
    "num = [1,2,3,4]\n",
    "squares = list(map(lambda x: x**2, num))\n",
    "print(squares)  \n"
   ]
  },
  {
   "cell_type": "markdown",
   "id": "7fbf2e91",
   "metadata": {},
   "source": [
    "### 2️⃣ filter() with lambda – Filter items based on condition"
   ]
  },
  {
   "cell_type": "markdown",
   "id": "4097984e",
   "metadata": {},
   "source": [
    "### 🔹 Syntax:"
   ]
  },
  {
   "cell_type": "code",
   "execution_count": null,
   "id": "df406dfe",
   "metadata": {},
   "outputs": [],
   "source": [
    "filter(function, iterable)"
   ]
  },
  {
   "cell_type": "code",
   "execution_count": 5,
   "id": "06d4680c",
   "metadata": {},
   "outputs": [
    {
     "name": "stdout",
     "output_type": "stream",
     "text": [
      "[10, 20]\n"
     ]
    }
   ],
   "source": [
    "numbers = [5, 10, 15, 20, 25]\n",
    "even = list(filter(lambda x: x % 2 == 0, numbers))\n",
    "print(even)  # [10, 20]"
   ]
  },
  {
   "cell_type": "markdown",
   "id": "05c2783c",
   "metadata": {},
   "source": [
    "### 3️⃣ sorted() with lambda – Custom sort"
   ]
  },
  {
   "cell_type": "markdown",
   "id": "fdba4fa5",
   "metadata": {},
   "source": [
    "### 🔹 Syntax:"
   ]
  },
  {
   "cell_type": "code",
   "execution_count": null,
   "id": "df513f02",
   "metadata": {},
   "outputs": [],
   "source": [
    "sorted(iterable, key=None, reverse=False)"
   ]
  },
  {
   "cell_type": "code",
   "execution_count": 6,
   "id": "80e81f52",
   "metadata": {},
   "outputs": [
    {
     "name": "stdout",
     "output_type": "stream",
     "text": [
      "[('Ahmed', 78), ('Ali', 85), ('Ayesha', 92)]\n"
     ]
    }
   ],
   "source": [
    "students = [(\"Ali\", 85), (\"Ayesha\", 92), (\"Ahmed\", 78)]\n",
    "sorted_students = sorted(students, key=lambda student: student[1])\n",
    "print(sorted_students)"
   ]
  },
  {
   "cell_type": "markdown",
   "id": "4fa8d229",
   "metadata": {},
   "source": [
    "### 4️⃣ reduce() with lambda – Reduce list to a single value"
   ]
  },
  {
   "cell_type": "code",
   "execution_count": null,
   "id": "09aa8ef9",
   "metadata": {},
   "outputs": [
    {
     "name": "stdout",
     "output_type": "stream",
     "text": [
      "10\n"
     ]
    }
   ],
   "source": [
    "from functools import reduce\n",
    "\n",
    "nums = [1, 2, 3, 4]\n",
    "result = reduce(lambda x, y: x + y, nums)\n",
    "print(result)\n"
   ]
  }
 ],
 "metadata": {
  "kernelspec": {
   "display_name": "Python 3",
   "language": "python",
   "name": "python3"
  },
  "language_info": {
   "codemirror_mode": {
    "name": "ipython",
    "version": 3
   },
   "file_extension": ".py",
   "mimetype": "text/x-python",
   "name": "python",
   "nbconvert_exporter": "python",
   "pygments_lexer": "ipython3",
   "version": "3.12.5"
  }
 },
 "nbformat": 4,
 "nbformat_minor": 5
}
