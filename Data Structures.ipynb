{
 "cells": [
  {
   "cell_type": "markdown",
   "id": "e65f75b4",
   "metadata": {},
   "source": [
    "# 🚀 PHASE 2: DATA STRUCTURES IN PYTHON"
   ]
  },
  {
   "cell_type": "markdown",
   "id": "9eb87ce9",
   "metadata": {},
   "source": [
    "## 🔹 PART 1: Lists (list)\n",
    "### Creation, Accessing, Updating\n",
    "\n",
    "### Built-in Methods: append(), insert(), pop(), remove(), sort(), etc.\n",
    "\n",
    "### List Comprehensions\n",
    "\n",
    "### Slicing, Nesting"
   ]
  },
  {
   "cell_type": "markdown",
   "id": "e4464443",
   "metadata": {},
   "source": [
    "### 🔸 1. What is a List?\n",
    "### A list is a collection of ordered, changeable items. It can store any data type (even mixed types)."
   ]
  },
  {
   "cell_type": "code",
   "execution_count": 1,
   "id": "07676c31",
   "metadata": {},
   "outputs": [],
   "source": [
    "fruits = [\"apple\", \"banana\", \"mango\"]\n"
   ]
  },
  {
   "cell_type": "markdown",
   "id": "d0b20d70",
   "metadata": {},
   "source": [
    "### 🔸 2. Accessing List Items"
   ]
  },
  {
   "cell_type": "code",
   "execution_count": 2,
   "id": "ab540cb9",
   "metadata": {},
   "outputs": [
    {
     "name": "stdout",
     "output_type": "stream",
     "text": [
      "apple\n",
      "mango\n"
     ]
    }
   ],
   "source": [
    "print(fruits[0])       # apple\n",
    "print(fruits[-1])      # mango (last item)"
   ]
  },
  {
   "cell_type": "markdown",
   "id": "cba952f6",
   "metadata": {},
   "source": [
    "### 🔸 3. Modifying List"
   ]
  },
  {
   "cell_type": "code",
   "execution_count": 3,
   "id": "fedd2c15",
   "metadata": {},
   "outputs": [
    {
     "name": "stdout",
     "output_type": "stream",
     "text": [
      "['apple', 'orange', 'mango']\n"
     ]
    }
   ],
   "source": [
    "fruits[1] = \"orange\"\n",
    "print(fruits)  # ['apple', 'orange', 'mango']"
   ]
  },
  {
   "cell_type": "markdown",
   "id": "c9da12a0",
   "metadata": {},
   "source": [
    "## 🔸 4. Important Built-in List Methods\n",
    "| Method             | Description                      |\n",
    "| ------------------ | -------------------------------- |\n",
    "| `append(x)`        | Add x to end                     |\n",
    "| `insert(i, x)`     | Insert x at position i           |\n",
    "| `pop()` / `pop(i)` | Remove and return last/item at i |\n",
    "| `remove(x)`        | Remove first occurrence of x     |\n",
    "| `clear()`          | Empty the list                   |\n",
    "| `index(x)`         | Return index of x                |\n",
    "| `count(x)`         | Count occurrences of x           |\n",
    "| `sort()`           | Sort list ascending              |\n",
    "| `reverse()`        | Reverse list                     |\n",
    "| `copy()`           | Return shallow copy              |\n"
   ]
  },
  {
   "cell_type": "markdown",
   "id": "d9332cab",
   "metadata": {},
   "source": [
    "### 🔸 5. Examples of List Methods"
   ]
  },
  {
   "cell_type": "code",
   "execution_count": 19,
   "id": "a9884d59",
   "metadata": {},
   "outputs": [
    {
     "name": "stdout",
     "output_type": "stream",
     "text": [
      "Numbers: [10, 10, 20, 30]\n",
      "Index 0:2 [10, 10]\n",
      "Append 40: [10, 10, 20, 30, 40]\n",
      "Insert 15 at index 1: [10, 15, 10, 20, 30, 40]\n",
      "Remove 20: [10, 15, 10, 30, 40]\n",
      "Pop last item: [10, 15, 10, 30]\n",
      "Reverse: [30, 10, 15, 10]\n",
      "Sort: [10, 10, 15, 30]\n",
      "Count of 10: 2\n",
      "Copy of numbers: [10, 10, 15, 30]\n",
      "Clear numbers: []\n"
     ]
    }
   ],
   "source": [
    "numbers = [10, 10, 20, 30]\n",
    "print(f\"Numbers: {numbers}\") \n",
    "\n",
    "print(f\"Index 0:2 {numbers[0:2]}\")  # [10, 20] (items at index 0 and 1)\n",
    "\n",
    "numbers.append(40)      # This will add 40 to the list\n",
    "print(f\"Append 40: {numbers}\")          \n",
    "\n",
    "numbers.insert(1, 15)  \n",
    "print(f\"Insert 15 at index 1: {numbers}\")\n",
    "\n",
    "numbers.remove(20)    # This will remove the first occurrence of 20\n",
    "print(f\"Remove 20: {numbers}\")\n",
    "\n",
    "numbers.pop()         # This will remove the last item (40)\n",
    "print(f\"Pop last item: {numbers}\")\n",
    "\n",
    "numbers.reverse()      # This will reverse the list\n",
    "print(f\"Reverse: {numbers}\")\n",
    "\n",
    "numbers.sort()         # This will sort the list in ascending order\n",
    "print(f\"Sort: {numbers}\")  \n",
    "\n",
    "numbers.count(10)  # This will count how many times 10 appears in the list\n",
    "print(f\"Count of 10: {numbers.count(10)}\")  \n",
    "\n",
    "numbers.copy()  # This will create a shallow copy of the list\n",
    "print(f\"Copy of numbers: {numbers.copy()}\")\n",
    "\n",
    "numbers.clear()  # This will clear the list\n",
    "print(f\"Clear numbers: {numbers}\")"
   ]
  },
  {
   "cell_type": "markdown",
   "id": "25787348",
   "metadata": {},
   "source": [
    "### 🔸 6. Slicing Lists"
   ]
  },
  {
   "cell_type": "code",
   "execution_count": 21,
   "id": "69ca23de",
   "metadata": {},
   "outputs": [
    {
     "name": "stdout",
     "output_type": "stream",
     "text": [
      "[2, 3, 4]\n",
      "[1, 2, 3]\n",
      "[8, 9]\n"
     ]
    }
   ],
   "source": [
    "number = [1, 2, 3, 4, 5, 6, 7, 8, 9]\n",
    "\n",
    "print(number[1:4])     # Get items from index 1 to 3\n",
    "print(number[:3])      # First 3 items\n",
    "print(number[-2:])     # Last 2 items\n"
   ]
  },
  {
   "cell_type": "markdown",
   "id": "5884e6be",
   "metadata": {},
   "source": [
    "### 🔸 7. Nested Lists"
   ]
  },
  {
   "cell_type": "code",
   "execution_count": null,
   "id": "92bc4827",
   "metadata": {},
   "outputs": [
    {
     "name": "stdout",
     "output_type": "stream",
     "text": [
      "6\n",
      "[1, 2, 3]\n",
      "6\n",
      "Change second list's second item to 10: [[1, 2, 3], [4, 10, 6], [7, 8, 9]]\n",
      "Append new list: [[1, 2, 3], [4, 10, 6], [7, 8, 9], [10, 11, 12]]\n",
      "Append 4 to first list: [[1, 2, 3, 4], [4, 10, 6], [7, 8, 9], [10, 11, 12]]\n",
      "Remove 2 from first list: [[1, 3, 4], [4, 10, 6], [7, 8, 9], [10, 11, 12]]\n"
     ]
    }
   ],
   "source": [
    "\n",
    "\n",
    "nested_list = [[1, 2, 3], [4, 5, 6], [7, 8, 9]]\n",
    "print(nested_list[0])  # [1, 2, 3]\n",
    "print(nested_list[1][2])  # 6 (item at index 2 of the second list)\n",
    "\n",
    "nested_list[1][1] = 10  # Change the value at index 1 of the second list\n",
    "print(f\"Change second list's second item to 10: {nested_list}\")\n",
    "\n",
    "nested_list.append([10, 11, 12])  # Add a new list to the end\n",
    "print(f\"Append new list: {nested_list}\")  \n",
    "\n",
    "nested_list[0].append(4)\n",
    "print(f\"Append 4 to first list: {nested_list}\")  \n",
    "\n",
    "nested_list[0].remove(2)  \n",
    "print(f\"Remove 2 from first list: {nested_list}\")  "
   ]
  },
  {
   "cell_type": "markdown",
   "id": "26cf7f25",
   "metadata": {},
   "source": [
    "### 🔸 8. List Comprehension\n",
    "\n",
    " -  List comprehension is a short and clean way to create a new list from an existing iterable (like a list, range, etc.) using a single line of code.\n",
    "\n",
    " - It replaces traditional for loops and makes your code shorter, faster, and cleaner.\n",
    "\n"
   ]
  },
  {
   "cell_type": "markdown",
   "id": "1abbb120",
   "metadata": {},
   "source": [
    "## Syntax:\n",
    "\n",
    "-  [expression for item in iterable]\n",
    "\n",
    "### Optional Condition\n",
    "\n",
    "- [expression for item in iterable if condition]\n",
    "\n",
    "\n"
   ]
  },
  {
   "cell_type": "markdown",
   "id": "57921313",
   "metadata": {},
   "source": [
    "### ✅ Example 1: Square of numbers (Simple loop vs list comprehension)"
   ]
  },
  {
   "cell_type": "code",
   "execution_count": null,
   "id": "d71e0f5b",
   "metadata": {},
   "outputs": [
    {
     "name": "stdout",
     "output_type": "stream",
     "text": [
      "Squares using loop: [0, 1, 4, 9, 16]\n",
      "\n",
      "Squares using list comprehension: [0, 1, 4, 9, 16]\n"
     ]
    }
   ],
   "source": [
    "squares = []\n",
    "\n",
    "for i in range(5):\n",
    "    squares.append(i ** 2)\n",
    "print(f\"Squares using loop: {squares}\")  \n",
    "\n",
    "\n",
    "\n",
    "\n",
    "squares = [i * i for i in range(5)]\n",
    "print(f\"\\nSquares using list comprehension: {squares}\")\n"
   ]
  },
  {
   "cell_type": "markdown",
   "id": "fee00c25",
   "metadata": {},
   "source": [
    "### ✅ Example 2: Filtering even numbers"
   ]
  },
  {
   "cell_type": "code",
   "execution_count": 27,
   "id": "128877df",
   "metadata": {},
   "outputs": [
    {
     "name": "stdout",
     "output_type": "stream",
     "text": [
      "Even numbers using list comprehension: [0, 2, 4, 6, 8]\n"
     ]
    }
   ],
   "source": [
    "even = [i for i in range(10) if i % 2 == 0]\n",
    "print(f\"Even numbers using list comprehension: {even}\")"
   ]
  },
  {
   "cell_type": "markdown",
   "id": "1d48d585",
   "metadata": {},
   "source": [
    "### ✅ Example 3: Converting strings to uppercase"
   ]
  },
  {
   "cell_type": "code",
   "execution_count": 28,
   "id": "68d6c9ea",
   "metadata": {},
   "outputs": [
    {
     "name": "stdout",
     "output_type": "stream",
     "text": [
      "['ALI', 'AHMED', 'SARA']\n"
     ]
    }
   ],
   "source": [
    "names = [\"ali\", \"ahmed\", \"sara\"]\n",
    "upper_names = [name.upper() for name in names]\n",
    "print(upper_names) "
   ]
  },
  {
   "cell_type": "markdown",
   "id": "a318eb8a",
   "metadata": {},
   "source": [
    "## 🔹 PART 2: Tuples (tuple)\n",
    "## 🔰 TUPLES (tuple)\n",
    "\n",
    "### Tuples are ordered and immutable collections. Use when data should not change.\n",
    "\n",
    "### Immutable nature\n",
    "\n",
    "### Indexing, Slicing\n",
    "\n",
    "### Conversion between list & tuple"
   ]
  },
  {
   "cell_type": "code",
   "execution_count": 29,
   "id": "5b93f5c8",
   "metadata": {},
   "outputs": [
    {
     "name": "stdout",
     "output_type": "stream",
     "text": [
      "Name: Ali, Age: 25, City: Lahore\n"
     ]
    }
   ],
   "source": [
    "info = (\"Ali\", 25, \"Lahore\")\n",
    "\n",
    "print(f\"Name: {info[0]}, Age: {info[1]}, City: {info[2]}\")  # Accessing tuple elements"
   ]
  },
  {
   "cell_type": "markdown",
   "id": "8f5838d5",
   "metadata": {},
   "source": [
    "## 🔸 4. Why Use Tuple?\n",
    "- Faster than lists\n",
    "\n",
    "- Safer (immutable)\n",
    "\n",
    "- Good for fixed data (e.g., coordinates)"
   ]
  },
  {
   "cell_type": "markdown",
   "id": "a92abbc2",
   "metadata": {},
   "source": [
    "## Tuple Functions\n",
    "\n",
    "| Method     | Description      |\n",
    "| ---------- | ---------------- |\n",
    "| `count(x)` | Count x in tuple |\n",
    "| `index(x)` | First index of x |\n"
   ]
  },
  {
   "cell_type": "markdown",
   "id": "62521c0e",
   "metadata": {},
   "source": [
    "## 🔹 PART 3: Sets (set)\n",
    "### Unordered, No duplicates\n",
    "\n",
    "### Set operations: union, intersection, difference, symmetric difference\n",
    "\n",
    "### Functions: add(), remove(), update()"
   ]
  },
  {
   "cell_type": "code",
   "execution_count": 30,
   "id": "c07498f6",
   "metadata": {},
   "outputs": [
    {
     "name": "stdout",
     "output_type": "stream",
     "text": [
      "{'Python', 'Java'}\n"
     ]
    }
   ],
   "source": [
    "skills = {\"Python\", \"Java\", \"Python\"}\n",
    "print(skills)\n"
   ]
  },
  {
   "cell_type": "markdown",
   "id": "c30b961c",
   "metadata": {},
   "source": [
    "### 2. Set Functions\n",
    "| Method         | Description                      |\n",
    "| -------------- | -------------------------------- |\n",
    "| `add(x)`       | Add x to set                     |\n",
    "| `remove(x)`    | Remove x, error if not exists    |\n",
    "| `discard(x)`   | Remove x, no error if not exists |\n",
    "| `update(set2)` | Add items from set2              |\n",
    "| `clear()`      | Remove all items                 |\n",
    "| `copy()`       | Shallow copy                     |\n"
   ]
  },
  {
   "cell_type": "markdown",
   "id": "402dfadf",
   "metadata": {},
   "source": [
    "### 🔸Set Operations"
   ]
  },
  {
   "cell_type": "code",
   "execution_count": 33,
   "id": "88bd7677",
   "metadata": {},
   "outputs": [
    {
     "name": "stdout",
     "output_type": "stream",
     "text": [
      "Union: {1, 2, 3, 4, 5}\n",
      "Intersection: {3}\n",
      "Difference {1, 2}\n",
      "Symmetric difference: {1, 2, 4, 5}\n",
      "\n",
      "Set after adding 4: {1, 2, 3, 4}\n",
      "Set after removing 2: {1, 3, 4}\n",
      "Set after discarding 3: {1, 4}\n",
      "Set after updating with [5, 6]: {1, 4, 5, 6}\n",
      "Copy of set: {1, 4, 5, 6}\n",
      "Set after clearing: set()\n"
     ]
    }
   ],
   "source": [
    "a = {1, 2, 3}\n",
    "b = {3, 4, 5}\n",
    "\n",
    "print(f\"Union: {a | b}\")   \n",
    "print(f\"Intersection: {a & b}\")   \n",
    "print(f\"Difference { a - b}\")   \n",
    "print(f\"Symmetric difference: {a ^ b}\")   \n",
    "\n",
    "s = {1, 2, 3}\n",
    "s.add(4)\n",
    "print(f\"\\nSet after adding 4: {s}\")\n",
    "\n",
    "s.remove(2)  \n",
    "print(f\"Set after removing 2: {s}\")\n",
    "\n",
    "s.discard(3)\n",
    "print(f\"Set after discarding 3: {s}\")\n",
    "\n",
    "s.update([5, 6])\n",
    "print(f\"Set after updating with [5, 6]: {s}\")\n",
    "\n",
    "s.copy()\n",
    "print(f\"Copy of set: {s.copy()}\")\n",
    "\n",
    "s.clear()\n",
    "print(f\"Set after clearing: {s}\")"
   ]
  },
  {
   "cell_type": "markdown",
   "id": "6de1f158",
   "metadata": {},
   "source": [
    "## 🔹 PART 4: Dictionaries (dict)\n",
    "### Key-value storage\n",
    "\n",
    "### Accessing, updating, deleting\n",
    "\n",
    "### Methods: .get(), .items(), .keys(), .values(), .update()"
   ]
  },
  {
   "cell_type": "markdown",
   "id": "6d9fb96d",
   "metadata": {},
   "source": [
    "### 🔸 Access / Add / Update / Delete"
   ]
  },
  {
   "cell_type": "code",
   "execution_count": 39,
   "id": "3c701781",
   "metadata": {},
   "outputs": [
    {
     "name": "stdout",
     "output_type": "stream",
     "text": [
      "Ali\n",
      "Updated student info: {'name': 'Ali', 'age': 23, 'city': 'Karachi'}\n"
     ]
    }
   ],
   "source": [
    "student = {\n",
    "    \"name\": \"Ali\",\n",
    "    \"age\": 22,\n",
    "    \"grade\": \"A\"\n",
    "}\n",
    "\n",
    "print(student[\"name\"])        # Ali\n",
    "student[\"age\"] = 23           # Update\n",
    "student[\"city\"] = \"Karachi\"   # Add new key\n",
    "del student[\"grade\"]          # Delete key\n",
    "\n",
    "print(f\"Updated student info: {student}\")"
   ]
  },
  {
   "cell_type": "markdown",
   "id": "29aa7f7f",
   "metadata": {},
   "source": [
    "### 🔸 Useful Dictionary Methods\n",
    "| Method        | Description                                       |\n",
    "| ------------- | ------------------------------------------------- |\n",
    "| `.get(key)`   | Safer access, returns `None` if key doesn't exist |\n",
    "| `.keys()`     | All keys                                          |\n",
    "| `.values()`   | All values                                        |\n",
    "| `.items()`    | All key-value pairs                               |\n",
    "| `.update({})` | Add/overwrite another dict                        |\n",
    "| `.pop(key)`   | Remove and return key's value                     |\n",
    "| `.clear()`    | Empty dictionary                                  |\n",
    "\n"
   ]
  },
  {
   "cell_type": "code",
   "execution_count": 41,
   "id": "0d81cea5",
   "metadata": {},
   "outputs": [
    {
     "name": "stdout",
     "output_type": "stream",
     "text": [
      "Get 'name': Ali\n",
      "Get 'email': None\n",
      "\n",
      "All Keys: dict_keys(['name', 'age', 'course'])\n",
      "\n",
      "All Values: dict_values(['Ali', 21, 'Python'])\n",
      "\n",
      "All Items:\n",
      "name → Ali\n",
      "age → 21\n",
      "course → Python\n",
      "\n",
      "After update: {'name': 'Ali', 'age': 22, 'course': 'Python', 'email': 'ali@example.com'}\n",
      "\n",
      "Removed 'course': Python\n",
      "After pop: {'name': 'Ali', 'age': 22, 'email': 'ali@example.com'}\n",
      "\n",
      "After clear: {}\n"
     ]
    }
   ],
   "source": [
    "# Create a dictionary\n",
    "student = {\n",
    "    \"name\": \"Ali\",\n",
    "    \"age\": 21,\n",
    "    \"course\": \"Python\"\n",
    "}\n",
    "\n",
    "\n",
    "# 1. .get(key) → safer access\n",
    "print(\"Get 'name':\", student.get(\"name\"))         \n",
    "print(\"Get 'email':\", student.get(\"email\"))       \n",
    "\n",
    "\n",
    "# 2. .keys() → get all keys\n",
    "print(\"\\nAll Keys:\", student.keys())                \n",
    "\n",
    "\n",
    "# 3. .values() → get all values\n",
    "print(\"\\nAll Values:\", student.values())            \n",
    "\n",
    "\n",
    "# 4. .items() → get all key-value pairs\n",
    "print(\"\\nAll Items:\")\n",
    "for key, value in student.items():\n",
    "    print(f\"{key} → {value}\")\n",
    "\n",
    "\n",
    "# 5. .update({}) → add or overwrite items\n",
    "student.update({\"age\": 22, \"email\": \"ali@example.com\"})\n",
    "print(\"\\nAfter update:\", student)\n",
    "\n",
    "\n",
    "# 6. .pop(key) → remove item and return its value\n",
    "removed_value = student.pop(\"course\")\n",
    "print(\"\\nRemoved 'course':\", removed_value)\n",
    "print(\"After pop:\", student)\n",
    "\n",
    "\n",
    "# 7. .clear() → remove all items\n",
    "student.clear()\n",
    "print(\"\\nAfter clear:\", student)  "
   ]
  },
  {
   "cell_type": "markdown",
   "id": "dc64ca48",
   "metadata": {},
   "source": [
    "# 🚀 Mini-Projects & Real-World Use Cases using Python Data Structures"
   ]
  },
  {
   "cell_type": "markdown",
   "id": "0d5e5665",
   "metadata": {},
   "source": [
    "## ✅ Project 1: Student Record Manager\n",
    "## 🎯 Focus: Dictionaries + Lists + Functions\n",
    "\n",
    "### 📝 Description:\n",
    "- Create a system where:\n",
    "\n",
    "- You can add students with name, age, and marks\n",
    "\n",
    "- You can view all students\n",
    "\n",
    "- You can search by name\n",
    "\n",
    "- You can delete record"
   ]
  },
  {
   "cell_type": "code",
   "execution_count": null,
   "id": "9e588024",
   "metadata": {},
   "outputs": [],
   "source": [
    "students = []\n",
    "\n",
    "def add_students():\n",
    "    name = input(\"Enter student name: \")\n",
    "    age = int(input(\"Enter student age: \"))\n",
    "    marks = int(input(\"Enter student marks: \"))\n",
    "\n",
    "    student = {\n",
    "        \"name\": name,\n",
    "        \"age\": age,\n",
    "        \"marks\": marks\n",
    "    }\n",
    "\n",
    "    students.append(student)\n",
    "    print(f\"Student {name} added successfully!\")\n",
    "\n",
    "\n",
    "def view_students():\n",
    "    if not students:\n",
    "        print(\"No students added yet.\")\n",
    "    for s in students:\n",
    "        print(f\"Name: {s['name']}, Age: {s['age']}, Marks: {s['marks']}\")\n",
    "\n",
    "\n",
    "def search_student():\n",
    "    name = input(\"Enter student name to search: \")\n",
    "    for s in students:\n",
    "        if s[\"name\"].lower() == name.lower():\n",
    "            print(f\"Found: Name: {s['name']}, Age: {s['age']}, Marks: {s['marks']}\")\n",
    "            return\n",
    "    print(f\"Student {name} not found.\")\n",
    "\n",
    "\n",
    "def delete_student():\n",
    "    name = input(\"Enter student name to delete: \")\n",
    "    for s in students:\n",
    "        if s[\"name\"].lower() == name.lower():\n",
    "            students.remove(s)\n",
    "            print(f\"Student {name} deleted successfully!\")\n",
    "            return\n",
    "    print(f\"Student {name} not found.\")\n",
    "\n",
    "\n",
    "while True:\n",
    "    print(\"\\n1. Add Student\\n2. View All Students\\n3. Search Student\\n4. Delete Student\\n5. Exit\")\n",
    "    choice = input(\"Choose an option: \")\n",
    "\n",
    "    if choice == \"1\":\n",
    "        add_students()\n",
    "    elif choice == \"2\":\n",
    "        view_students()\n",
    "    elif choice == \"3\":\n",
    "        search_student()\n",
    "    elif choice == \"4\":\n",
    "        delete_student()\n",
    "    elif choice == \"5\":\n",
    "        print(\"Exiting program. Goodbye!\")\n",
    "        break\n",
    "    else:\n",
    "        print(\"Invalid choice. Please select a valid option.\")\n"
   ]
  },
  {
   "cell_type": "markdown",
   "id": "9e8a476e",
   "metadata": {},
   "source": [
    "## ✅ Duplicate Remover from List\n",
    "### 🎯 Focus: Sets"
   ]
  },
  {
   "cell_type": "code",
   "execution_count": 5,
   "id": "39968863",
   "metadata": {},
   "outputs": [
    {
     "name": "stdout",
     "output_type": "stream",
     "text": [
      "Names ['Ali', 'Ahmed', 'Sara', 'Ali', 'Zayn']\n",
      "\n",
      "Unique names: {'Sara', 'Ali', 'Ahmed', 'Zayn'}\n",
      "Sara\n",
      "Ali\n",
      "Ahmed\n",
      "Zayn\n"
     ]
    }
   ],
   "source": [
    "names = [\"Ali\", \"Ahmed\", \"Sara\", \"Ali\", \"Zayn\"]\n",
    "print(f\"Names {names}\")\n",
    "\n",
    "unique_names = set(names)\n",
    "\n",
    "print(f\"\\nUnique names: {unique_names}\")  \n",
    "for name in unique_names:\n",
    "    print(name)  "
   ]
  },
  {
   "cell_type": "markdown",
   "id": "6f4d7f18",
   "metadata": {},
   "source": [
    "## Word Frequency Counter\n",
    "### 🎯 Focus: Dictionaries + Strings"
   ]
  },
  {
   "cell_type": "code",
   "execution_count": 2,
   "id": "a41dab3a",
   "metadata": {},
   "outputs": [
    {
     "name": "stdout",
     "output_type": "stream",
     "text": [
      "zayn: 2\n",
      "is: 2\n",
      "a: 1\n",
      "boy,: 1\n",
      "good: 1\n",
      "shaat: 1\n"
     ]
    }
   ],
   "source": [
    "sentence = input(\"Enter a sentence: \")\n",
    "\n",
    "words = sentence.lower().split()\n",
    "word_count = {}\n",
    "\n",
    "for word in words:\n",
    "    if word in word_count:\n",
    "        word_count[word] += 1\n",
    "    else:\n",
    "        word_count[word] = 1\n",
    "\n",
    "for word, count in word_count.items():\n",
    "    print(f\"{word}: {count}\")\n"
   ]
  }
 ],
 "metadata": {
  "kernelspec": {
   "display_name": "Python 3",
   "language": "python",
   "name": "python3"
  },
  "language_info": {
   "codemirror_mode": {
    "name": "ipython",
    "version": 3
   },
   "file_extension": ".py",
   "mimetype": "text/x-python",
   "name": "python",
   "nbconvert_exporter": "python",
   "pygments_lexer": "ipython3",
   "version": "3.12.5"
  }
 },
 "nbformat": 4,
 "nbformat_minor": 5
}
