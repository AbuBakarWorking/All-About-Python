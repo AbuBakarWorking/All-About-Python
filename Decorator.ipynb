{
 "cells": [
  {
   "cell_type": "markdown",
   "id": "2a44c006",
   "metadata": {},
   "source": [
    "# 🧠 To master decorators, we’ll learn step-by-step:\n",
    "## You’ll learn:\n",
    "- 🔹 1. Functions are First-Class Citizens in Python\n",
    "- 🔹 2. Functions Inside Functions\n",
    "- 🔹 3. Closures (very important for decorators)\n",
    "- 🔹 4. Writing Your Own Decorator\n",
    "- 🔹 5. Using @decorator syntax\n",
    "- 🔹 6. Decorators with Parameters\n",
    "- 🔹 7. Decorators for Functions with Arguments\n",
    "- 🔹 8. Using functools.wraps\n",
    "- 🔹 9. Real-World Use Cases"
   ]
  },
  {
   "cell_type": "markdown",
   "id": "0785f53f",
   "metadata": {},
   "source": [
    "## 🔹 What is a Decorator in Python?\n",
    "### A decorator is a function that modifies or enhances another function without changing its actual code.\n",
    "\n",
    "### It’s like wrapping a gift — you don't change the gift (function), you just add something extra around it (behavior)."
   ]
  },
  {
   "cell_type": "markdown",
   "id": "dd0610c8",
   "metadata": {},
   "source": [
    "### ✅ Why Use Decorators?\n",
    "### ✅ Add extra functionality to existing functions\n",
    "\n",
    "### ✅ Keep code clean and reusable\n",
    "\n",
    "### ✅ Common in web frameworks, logging, authentication, etc."
   ]
  },
  {
   "cell_type": "markdown",
   "id": "3352e59a",
   "metadata": {},
   "source": [
    "## 🔹 1. Functions are First-Class Citizens\n",
    "### In Python:\n",
    "\n",
    "### You can assign a function to a variable\n",
    "\n",
    "### You can pass it as an argument\n",
    "\n",
    "### You can return it from another function"
   ]
  },
  {
   "cell_type": "code",
   "execution_count": 2,
   "id": "fc4a4928",
   "metadata": {},
   "outputs": [
    {
     "name": "stdout",
     "output_type": "stream",
     "text": [
      "Hello, World!\n"
     ]
    }
   ],
   "source": [
    "def greet():\n",
    "    return \"Hello, World!\"\n",
    "\n",
    "say = greet\n",
    "\n",
    "\n",
    "print(say())"
   ]
  },
  {
   "cell_type": "markdown",
   "id": "7e3fae64",
   "metadata": {},
   "source": [
    "## 🔹 2. Functions Inside Functions\n",
    "### A function can be defined inside another function."
   ]
  },
  {
   "cell_type": "code",
   "execution_count": 8,
   "id": "d4274adc",
   "metadata": {},
   "outputs": [
    {
     "name": "stdout",
     "output_type": "stream",
     "text": [
      "Hello from inner function!\n"
     ]
    }
   ],
   "source": [
    "def outer():\n",
    "    def inner():\n",
    "        print(\"Hello from inner function!\")\n",
    "    \n",
    "    inner()\n",
    "\n",
    "outer()"
   ]
  },
  {
   "cell_type": "markdown",
   "id": "36c236c3",
   "metadata": {},
   "source": [
    "## 🔹 3. What is a Closure?\n",
    "### If an inner function remembers variables from the outer function, it's called a closure."
   ]
  },
  {
   "cell_type": "code",
   "execution_count": 10,
   "id": "6249d5f2",
   "metadata": {},
   "outputs": [
    {
     "name": "stdout",
     "output_type": "stream",
     "text": [
      "Message: Welcome!\n"
     ]
    }
   ],
   "source": [
    "def outer(message):\n",
    "    def inner():\n",
    "        print(\"Message:\",message)\n",
    "    return inner\n",
    "\n",
    "greet = outer(\"Welcome!\")\n",
    "greet()"
   ]
  },
  {
   "cell_type": "markdown",
   "id": "a01f3b4a",
   "metadata": {},
   "source": [
    "- Here, inner() remembers message even after outer() is done.\n",
    "- Closures are the foundation for decorators."
   ]
  },
  {
   "cell_type": "markdown",
   "id": "246f64c3",
   "metadata": {},
   "source": [
    "## 🔹 4. Creating Your Own Decorator\n",
    "### Let’s write a decorator that adds something before and after a function runs."
   ]
  },
  {
   "cell_type": "code",
   "execution_count": null,
   "id": "112d81c3",
   "metadata": {},
   "outputs": [],
   "source": [
    "def my_decorator(func):\n",
    "    "
   ]
  }
 ],
 "metadata": {
  "kernelspec": {
   "display_name": "Python 3",
   "language": "python",
   "name": "python3"
  },
  "language_info": {
   "codemirror_mode": {
    "name": "ipython",
    "version": 3
   },
   "file_extension": ".py",
   "mimetype": "text/x-python",
   "name": "python",
   "nbconvert_exporter": "python",
   "pygments_lexer": "ipython3",
   "version": "3.12.5"
  }
 },
 "nbformat": 4,
 "nbformat_minor": 5
}
